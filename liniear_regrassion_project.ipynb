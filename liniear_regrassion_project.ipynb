{
  "cells": [
    {
      "cell_type": "markdown",
      "metadata": {
        "id": "view-in-github",
        "colab_type": "text"
      },
      "source": [
        "<a href=\"https://colab.research.google.com/github/pervez72/1-Google-colab/blob/Project/liniear_regrassion_project.ipynb\" target=\"_parent\"><img src=\"https://colab.research.google.com/assets/colab-badge.svg\" alt=\"Open In Colab\"/></a>"
      ]
    },
    {
      "cell_type": "code",
      "execution_count": 9,
      "metadata": {
        "colab": {
          "base_uri": "https://localhost:8080/"
        },
        "id": "LQuIG0O-oA9i",
        "outputId": "e4eafb11-4e04-4280-e87c-879400de19d5"
      },
      "outputs": [
        {
          "output_type": "stream",
          "name": "stdout",
          "text": [
            "Using Colab cache for faster access to the 'insurance' dataset.\n",
            "Path to dataset files: /kaggle/input/insurance\n"
          ]
        }
      ],
      "source": [
        "import kagglehub\n",
        "import pandas as pd\n",
        "import numpy as np\n",
        "# Download latest version\n",
        "path = kagglehub.dataset_download(\"mirichoi0218/insurance\")\n",
        "\n",
        "print(\"Path to dataset files:\", path)"
      ]
    },
    {
      "cell_type": "code",
      "source": [
        "df=pd.read_csv(\"/kaggle/input/insurance/insurance.csv\")\n",
        "df.head()"
      ],
      "metadata": {
        "colab": {
          "base_uri": "https://localhost:8080/",
          "height": 206
        },
        "id": "oaRnzCEVZE_1",
        "outputId": "d1b3321f-6386-4914-b81e-451a7da82980"
      },
      "execution_count": 15,
      "outputs": [
        {
          "output_type": "execute_result",
          "data": {
            "text/plain": [
              "   age     sex     bmi  children smoker     region      charges\n",
              "0   19  female  27.900         0    yes  southwest  16884.92400\n",
              "1   18    male  33.770         1     no  southeast   1725.55230\n",
              "2   28    male  33.000         3     no  southeast   4449.46200\n",
              "3   33    male  22.705         0     no  northwest  21984.47061\n",
              "4   32    male  28.880         0     no  northwest   3866.85520"
            ],
            "text/html": [
              "\n",
              "  <div id=\"df-c22a44b5-81db-4095-a3ce-fbfb85f2ab95\" class=\"colab-df-container\">\n",
              "    <div>\n",
              "<style scoped>\n",
              "    .dataframe tbody tr th:only-of-type {\n",
              "        vertical-align: middle;\n",
              "    }\n",
              "\n",
              "    .dataframe tbody tr th {\n",
              "        vertical-align: top;\n",
              "    }\n",
              "\n",
              "    .dataframe thead th {\n",
              "        text-align: right;\n",
              "    }\n",
              "</style>\n",
              "<table border=\"1\" class=\"dataframe\">\n",
              "  <thead>\n",
              "    <tr style=\"text-align: right;\">\n",
              "      <th></th>\n",
              "      <th>age</th>\n",
              "      <th>sex</th>\n",
              "      <th>bmi</th>\n",
              "      <th>children</th>\n",
              "      <th>smoker</th>\n",
              "      <th>region</th>\n",
              "      <th>charges</th>\n",
              "    </tr>\n",
              "  </thead>\n",
              "  <tbody>\n",
              "    <tr>\n",
              "      <th>0</th>\n",
              "      <td>19</td>\n",
              "      <td>female</td>\n",
              "      <td>27.900</td>\n",
              "      <td>0</td>\n",
              "      <td>yes</td>\n",
              "      <td>southwest</td>\n",
              "      <td>16884.92400</td>\n",
              "    </tr>\n",
              "    <tr>\n",
              "      <th>1</th>\n",
              "      <td>18</td>\n",
              "      <td>male</td>\n",
              "      <td>33.770</td>\n",
              "      <td>1</td>\n",
              "      <td>no</td>\n",
              "      <td>southeast</td>\n",
              "      <td>1725.55230</td>\n",
              "    </tr>\n",
              "    <tr>\n",
              "      <th>2</th>\n",
              "      <td>28</td>\n",
              "      <td>male</td>\n",
              "      <td>33.000</td>\n",
              "      <td>3</td>\n",
              "      <td>no</td>\n",
              "      <td>southeast</td>\n",
              "      <td>4449.46200</td>\n",
              "    </tr>\n",
              "    <tr>\n",
              "      <th>3</th>\n",
              "      <td>33</td>\n",
              "      <td>male</td>\n",
              "      <td>22.705</td>\n",
              "      <td>0</td>\n",
              "      <td>no</td>\n",
              "      <td>northwest</td>\n",
              "      <td>21984.47061</td>\n",
              "    </tr>\n",
              "    <tr>\n",
              "      <th>4</th>\n",
              "      <td>32</td>\n",
              "      <td>male</td>\n",
              "      <td>28.880</td>\n",
              "      <td>0</td>\n",
              "      <td>no</td>\n",
              "      <td>northwest</td>\n",
              "      <td>3866.85520</td>\n",
              "    </tr>\n",
              "  </tbody>\n",
              "</table>\n",
              "</div>\n",
              "    <div class=\"colab-df-buttons\">\n",
              "\n",
              "  <div class=\"colab-df-container\">\n",
              "    <button class=\"colab-df-convert\" onclick=\"convertToInteractive('df-c22a44b5-81db-4095-a3ce-fbfb85f2ab95')\"\n",
              "            title=\"Convert this dataframe to an interactive table.\"\n",
              "            style=\"display:none;\">\n",
              "\n",
              "  <svg xmlns=\"http://www.w3.org/2000/svg\" height=\"24px\" viewBox=\"0 -960 960 960\">\n",
              "    <path d=\"M120-120v-720h720v720H120Zm60-500h600v-160H180v160Zm220 220h160v-160H400v160Zm0 220h160v-160H400v160ZM180-400h160v-160H180v160Zm440 0h160v-160H620v160ZM180-180h160v-160H180v160Zm440 0h160v-160H620v160Z\"/>\n",
              "  </svg>\n",
              "    </button>\n",
              "\n",
              "  <style>\n",
              "    .colab-df-container {\n",
              "      display:flex;\n",
              "      gap: 12px;\n",
              "    }\n",
              "\n",
              "    .colab-df-convert {\n",
              "      background-color: #E8F0FE;\n",
              "      border: none;\n",
              "      border-radius: 50%;\n",
              "      cursor: pointer;\n",
              "      display: none;\n",
              "      fill: #1967D2;\n",
              "      height: 32px;\n",
              "      padding: 0 0 0 0;\n",
              "      width: 32px;\n",
              "    }\n",
              "\n",
              "    .colab-df-convert:hover {\n",
              "      background-color: #E2EBFA;\n",
              "      box-shadow: 0px 1px 2px rgba(60, 64, 67, 0.3), 0px 1px 3px 1px rgba(60, 64, 67, 0.15);\n",
              "      fill: #174EA6;\n",
              "    }\n",
              "\n",
              "    .colab-df-buttons div {\n",
              "      margin-bottom: 4px;\n",
              "    }\n",
              "\n",
              "    [theme=dark] .colab-df-convert {\n",
              "      background-color: #3B4455;\n",
              "      fill: #D2E3FC;\n",
              "    }\n",
              "\n",
              "    [theme=dark] .colab-df-convert:hover {\n",
              "      background-color: #434B5C;\n",
              "      box-shadow: 0px 1px 3px 1px rgba(0, 0, 0, 0.15);\n",
              "      filter: drop-shadow(0px 1px 2px rgba(0, 0, 0, 0.3));\n",
              "      fill: #FFFFFF;\n",
              "    }\n",
              "  </style>\n",
              "\n",
              "    <script>\n",
              "      const buttonEl =\n",
              "        document.querySelector('#df-c22a44b5-81db-4095-a3ce-fbfb85f2ab95 button.colab-df-convert');\n",
              "      buttonEl.style.display =\n",
              "        google.colab.kernel.accessAllowed ? 'block' : 'none';\n",
              "\n",
              "      async function convertToInteractive(key) {\n",
              "        const element = document.querySelector('#df-c22a44b5-81db-4095-a3ce-fbfb85f2ab95');\n",
              "        const dataTable =\n",
              "          await google.colab.kernel.invokeFunction('convertToInteractive',\n",
              "                                                    [key], {});\n",
              "        if (!dataTable) return;\n",
              "\n",
              "        const docLinkHtml = 'Like what you see? Visit the ' +\n",
              "          '<a target=\"_blank\" href=https://colab.research.google.com/notebooks/data_table.ipynb>data table notebook</a>'\n",
              "          + ' to learn more about interactive tables.';\n",
              "        element.innerHTML = '';\n",
              "        dataTable['output_type'] = 'display_data';\n",
              "        await google.colab.output.renderOutput(dataTable, element);\n",
              "        const docLink = document.createElement('div');\n",
              "        docLink.innerHTML = docLinkHtml;\n",
              "        element.appendChild(docLink);\n",
              "      }\n",
              "    </script>\n",
              "  </div>\n",
              "\n",
              "\n",
              "    <div id=\"df-095598f8-008d-433d-b6ae-8d44f9254629\">\n",
              "      <button class=\"colab-df-quickchart\" onclick=\"quickchart('df-095598f8-008d-433d-b6ae-8d44f9254629')\"\n",
              "                title=\"Suggest charts\"\n",
              "                style=\"display:none;\">\n",
              "\n",
              "<svg xmlns=\"http://www.w3.org/2000/svg\" height=\"24px\"viewBox=\"0 0 24 24\"\n",
              "     width=\"24px\">\n",
              "    <g>\n",
              "        <path d=\"M19 3H5c-1.1 0-2 .9-2 2v14c0 1.1.9 2 2 2h14c1.1 0 2-.9 2-2V5c0-1.1-.9-2-2-2zM9 17H7v-7h2v7zm4 0h-2V7h2v10zm4 0h-2v-4h2v4z\"/>\n",
              "    </g>\n",
              "</svg>\n",
              "      </button>\n",
              "\n",
              "<style>\n",
              "  .colab-df-quickchart {\n",
              "      --bg-color: #E8F0FE;\n",
              "      --fill-color: #1967D2;\n",
              "      --hover-bg-color: #E2EBFA;\n",
              "      --hover-fill-color: #174EA6;\n",
              "      --disabled-fill-color: #AAA;\n",
              "      --disabled-bg-color: #DDD;\n",
              "  }\n",
              "\n",
              "  [theme=dark] .colab-df-quickchart {\n",
              "      --bg-color: #3B4455;\n",
              "      --fill-color: #D2E3FC;\n",
              "      --hover-bg-color: #434B5C;\n",
              "      --hover-fill-color: #FFFFFF;\n",
              "      --disabled-bg-color: #3B4455;\n",
              "      --disabled-fill-color: #666;\n",
              "  }\n",
              "\n",
              "  .colab-df-quickchart {\n",
              "    background-color: var(--bg-color);\n",
              "    border: none;\n",
              "    border-radius: 50%;\n",
              "    cursor: pointer;\n",
              "    display: none;\n",
              "    fill: var(--fill-color);\n",
              "    height: 32px;\n",
              "    padding: 0;\n",
              "    width: 32px;\n",
              "  }\n",
              "\n",
              "  .colab-df-quickchart:hover {\n",
              "    background-color: var(--hover-bg-color);\n",
              "    box-shadow: 0 1px 2px rgba(60, 64, 67, 0.3), 0 1px 3px 1px rgba(60, 64, 67, 0.15);\n",
              "    fill: var(--button-hover-fill-color);\n",
              "  }\n",
              "\n",
              "  .colab-df-quickchart-complete:disabled,\n",
              "  .colab-df-quickchart-complete:disabled:hover {\n",
              "    background-color: var(--disabled-bg-color);\n",
              "    fill: var(--disabled-fill-color);\n",
              "    box-shadow: none;\n",
              "  }\n",
              "\n",
              "  .colab-df-spinner {\n",
              "    border: 2px solid var(--fill-color);\n",
              "    border-color: transparent;\n",
              "    border-bottom-color: var(--fill-color);\n",
              "    animation:\n",
              "      spin 1s steps(1) infinite;\n",
              "  }\n",
              "\n",
              "  @keyframes spin {\n",
              "    0% {\n",
              "      border-color: transparent;\n",
              "      border-bottom-color: var(--fill-color);\n",
              "      border-left-color: var(--fill-color);\n",
              "    }\n",
              "    20% {\n",
              "      border-color: transparent;\n",
              "      border-left-color: var(--fill-color);\n",
              "      border-top-color: var(--fill-color);\n",
              "    }\n",
              "    30% {\n",
              "      border-color: transparent;\n",
              "      border-left-color: var(--fill-color);\n",
              "      border-top-color: var(--fill-color);\n",
              "      border-right-color: var(--fill-color);\n",
              "    }\n",
              "    40% {\n",
              "      border-color: transparent;\n",
              "      border-right-color: var(--fill-color);\n",
              "      border-top-color: var(--fill-color);\n",
              "    }\n",
              "    60% {\n",
              "      border-color: transparent;\n",
              "      border-right-color: var(--fill-color);\n",
              "    }\n",
              "    80% {\n",
              "      border-color: transparent;\n",
              "      border-right-color: var(--fill-color);\n",
              "      border-bottom-color: var(--fill-color);\n",
              "    }\n",
              "    90% {\n",
              "      border-color: transparent;\n",
              "      border-bottom-color: var(--fill-color);\n",
              "    }\n",
              "  }\n",
              "</style>\n",
              "\n",
              "      <script>\n",
              "        async function quickchart(key) {\n",
              "          const quickchartButtonEl =\n",
              "            document.querySelector('#' + key + ' button');\n",
              "          quickchartButtonEl.disabled = true;  // To prevent multiple clicks.\n",
              "          quickchartButtonEl.classList.add('colab-df-spinner');\n",
              "          try {\n",
              "            const charts = await google.colab.kernel.invokeFunction(\n",
              "                'suggestCharts', [key], {});\n",
              "          } catch (error) {\n",
              "            console.error('Error during call to suggestCharts:', error);\n",
              "          }\n",
              "          quickchartButtonEl.classList.remove('colab-df-spinner');\n",
              "          quickchartButtonEl.classList.add('colab-df-quickchart-complete');\n",
              "        }\n",
              "        (() => {\n",
              "          let quickchartButtonEl =\n",
              "            document.querySelector('#df-095598f8-008d-433d-b6ae-8d44f9254629 button');\n",
              "          quickchartButtonEl.style.display =\n",
              "            google.colab.kernel.accessAllowed ? 'block' : 'none';\n",
              "        })();\n",
              "      </script>\n",
              "    </div>\n",
              "\n",
              "    </div>\n",
              "  </div>\n"
            ],
            "application/vnd.google.colaboratory.intrinsic+json": {
              "type": "dataframe",
              "variable_name": "df",
              "summary": "{\n  \"name\": \"df\",\n  \"rows\": 1338,\n  \"fields\": [\n    {\n      \"column\": \"age\",\n      \"properties\": {\n        \"dtype\": \"number\",\n        \"std\": 14,\n        \"min\": 18,\n        \"max\": 64,\n        \"num_unique_values\": 47,\n        \"samples\": [\n          21,\n          45,\n          36\n        ],\n        \"semantic_type\": \"\",\n        \"description\": \"\"\n      }\n    },\n    {\n      \"column\": \"sex\",\n      \"properties\": {\n        \"dtype\": \"category\",\n        \"num_unique_values\": 2,\n        \"samples\": [\n          \"male\",\n          \"female\"\n        ],\n        \"semantic_type\": \"\",\n        \"description\": \"\"\n      }\n    },\n    {\n      \"column\": \"bmi\",\n      \"properties\": {\n        \"dtype\": \"number\",\n        \"std\": 6.098186911679017,\n        \"min\": 15.96,\n        \"max\": 53.13,\n        \"num_unique_values\": 548,\n        \"samples\": [\n          23.18,\n          26.885\n        ],\n        \"semantic_type\": \"\",\n        \"description\": \"\"\n      }\n    },\n    {\n      \"column\": \"children\",\n      \"properties\": {\n        \"dtype\": \"number\",\n        \"std\": 1,\n        \"min\": 0,\n        \"max\": 5,\n        \"num_unique_values\": 6,\n        \"samples\": [\n          0,\n          1\n        ],\n        \"semantic_type\": \"\",\n        \"description\": \"\"\n      }\n    },\n    {\n      \"column\": \"smoker\",\n      \"properties\": {\n        \"dtype\": \"category\",\n        \"num_unique_values\": 2,\n        \"samples\": [\n          \"no\",\n          \"yes\"\n        ],\n        \"semantic_type\": \"\",\n        \"description\": \"\"\n      }\n    },\n    {\n      \"column\": \"region\",\n      \"properties\": {\n        \"dtype\": \"category\",\n        \"num_unique_values\": 4,\n        \"samples\": [\n          \"southeast\",\n          \"northeast\"\n        ],\n        \"semantic_type\": \"\",\n        \"description\": \"\"\n      }\n    },\n    {\n      \"column\": \"charges\",\n      \"properties\": {\n        \"dtype\": \"number\",\n        \"std\": 12110.011236693994,\n        \"min\": 1121.8739,\n        \"max\": 63770.42801,\n        \"num_unique_values\": 1337,\n        \"samples\": [\n          8688.85885,\n          5708.867\n        ],\n        \"semantic_type\": \"\",\n        \"description\": \"\"\n      }\n    }\n  ]\n}"
            }
          },
          "metadata": {},
          "execution_count": 15
        }
      ]
    },
    {
      "cell_type": "code",
      "source": [
        "df.info()"
      ],
      "metadata": {
        "id": "sBwCWcDmXzHl",
        "colab": {
          "base_uri": "https://localhost:8080/"
        },
        "outputId": "7971b1a3-66ae-43f4-f962-a98d4d0f86df"
      },
      "execution_count": 18,
      "outputs": [
        {
          "output_type": "stream",
          "name": "stdout",
          "text": [
            "<class 'pandas.core.frame.DataFrame'>\n",
            "RangeIndex: 1338 entries, 0 to 1337\n",
            "Data columns (total 7 columns):\n",
            " #   Column    Non-Null Count  Dtype  \n",
            "---  ------    --------------  -----  \n",
            " 0   age       1338 non-null   int64  \n",
            " 1   sex       1338 non-null   object \n",
            " 2   bmi       1338 non-null   float64\n",
            " 3   children  1338 non-null   int64  \n",
            " 4   smoker    1338 non-null   object \n",
            " 5   region    1338 non-null   object \n",
            " 6   charges   1338 non-null   float64\n",
            "dtypes: float64(2), int64(2), object(3)\n",
            "memory usage: 73.3+ KB\n"
          ]
        }
      ]
    },
    {
      "cell_type": "code",
      "source": [
        "import torch\n",
        "import torch.nn as nn\n",
        "import torch.optim as optim\n",
        "from sklearn.preprocessing import LabelEncoder, StandardScaler\n",
        "from sklearn.model_selection import train_test_split\n"
      ],
      "metadata": {
        "id": "IRAqOMU4c2oI"
      },
      "execution_count": 19,
      "outputs": []
    },
    {
      "cell_type": "code",
      "source": [
        "\n",
        "# Split dataset before encoding\n",
        "train_df, test_df = train_test_split(df, test_size=0.2, random_state=42)\n"
      ],
      "metadata": {
        "id": "t2Z1Rc2SdFGl"
      },
      "execution_count": 21,
      "outputs": []
    },
    {
      "cell_type": "code",
      "source": [
        "# Encode cetagorical variable\n",
        "label_encoder = {}\n",
        "for col in ['sex', 'smoker', 'region']:\n",
        "  le = LabelEncoder()\n",
        "  train_df[col] = le.fit_transform(train_df[col])\n",
        "  test_df[col] = le.transform(test_df[col])\n",
        "  label_encoder[col] = le\n"
      ],
      "metadata": {
        "id": "3IpPNoK4dMy6"
      },
      "execution_count": 22,
      "outputs": []
    },
    {
      "cell_type": "code",
      "source": [
        "# Features and target\n",
        "X_train = train_df.drop(columns=['charges'])\n",
        "y_train = train_df['charges']\n",
        "\n",
        "X_test = test_df.drop(columns=['charges'])\n",
        "y_test = test_df['charges']"
      ],
      "metadata": {
        "id": "mGg3ijhPdTbc"
      },
      "execution_count": 23,
      "outputs": []
    },
    {
      "cell_type": "code",
      "source": [
        "print(X_train.head())\n",
        "print(y_train.head())"
      ],
      "metadata": {
        "colab": {
          "base_uri": "https://localhost:8080/"
        },
        "id": "zwBAvVkYdTnz",
        "outputId": "bccc1c02-85bb-4b4c-d7a8-1c3e4e904ceb"
      },
      "execution_count": 24,
      "outputs": [
        {
          "output_type": "stream",
          "name": "stdout",
          "text": [
            "      age  sex    bmi  children  smoker  region\n",
            "560    46    0  19.95         2       0       1\n",
            "1285   47    0  24.32         0       0       0\n",
            "1142   52    0  24.86         0       0       2\n",
            "969    39    0  34.32         5       0       2\n",
            "486    54    0  21.47         3       0       1\n",
            "560      9193.83850\n",
            "1285     8534.67180\n",
            "1142    27117.99378\n",
            "969      8596.82780\n",
            "486     12475.35130\n",
            "Name: charges, dtype: float64\n"
          ]
        }
      ]
    },
    {
      "cell_type": "code",
      "source": [
        "# Normalize features\n",
        "scaler = StandardScaler()\n",
        "X_train = scaler.fit_transform(X_train)\n",
        "X_test = scaler.transform(X_test)"
      ],
      "metadata": {
        "id": "uzfKg_GYdT1b"
      },
      "execution_count": 25,
      "outputs": []
    },
    {
      "cell_type": "code",
      "source": [
        "print(X_train)"
      ],
      "metadata": {
        "colab": {
          "base_uri": "https://localhost:8080/"
        },
        "id": "d_-oyQ64dT7h",
        "outputId": "0d8162ee-27ac-44c8-baeb-633e4036554e"
      },
      "execution_count": 26,
      "outputs": [
        {
          "output_type": "stream",
          "name": "stdout",
          "text": [
            "[[ 0.47222651 -1.0246016  -1.75652513  0.73433626 -0.50874702 -0.45611589]\n",
            " [ 0.54331294 -1.0246016  -1.03308239 -0.91119211 -0.50874702 -1.35325561]\n",
            " [ 0.8987451  -1.0246016  -0.94368672 -0.91119211 -0.50874702  0.44102382]\n",
            " ...\n",
            " [ 1.3252637   0.97598911 -0.89153925 -0.91119211 -0.50874702 -1.35325561]\n",
            " [-0.16755139 -1.0246016   2.82086429  0.73433626  1.96561348  1.33816354]\n",
            " [ 1.1120044   0.97598911 -0.10932713 -0.91119211 -0.50874702  1.33816354]]\n"
          ]
        }
      ]
    },
    {
      "cell_type": "code",
      "source": [
        "# Convert to tensors\n",
        "X_train_tensor = torch.tensor(X_train, dtype=torch.float32)\n",
        "y_train_tensor = torch.tensor(y_train.values, dtype=torch.float32).view(-1, 1)\n",
        "X_test_tensor = torch.tensor(X_test, dtype=torch.float32)\n",
        "y_test_tensor = torch.tensor(y_test.values, dtype=torch.float32).view(-1, 1)"
      ],
      "metadata": {
        "id": "CmzIhbwidT-Q"
      },
      "execution_count": 27,
      "outputs": []
    },
    {
      "cell_type": "code",
      "source": [
        "print(y_train_tensor)\n",
        "print(y_train_tensor.shape)"
      ],
      "metadata": {
        "colab": {
          "base_uri": "https://localhost:8080/"
        },
        "id": "eFXVbrXMdUCj",
        "outputId": "da56c998-b955-4b18-d292-5ce7bacabd56"
      },
      "execution_count": 28,
      "outputs": [
        {
          "output_type": "stream",
          "name": "stdout",
          "text": [
            "tensor([[ 9193.8389],\n",
            "        [ 8534.6719],\n",
            "        [27117.9941],\n",
            "        ...,\n",
            "        [11931.1250],\n",
            "        [46113.5117],\n",
            "        [10214.6357]])\n",
            "torch.Size([1070, 1])\n"
          ]
        }
      ]
    },
    {
      "cell_type": "code",
      "source": [
        "print(X_test_tensor)\n",
        "print(X_test_tensor.shape)"
      ],
      "metadata": {
        "colab": {
          "base_uri": "https://localhost:8080/"
        },
        "id": "R5M0vgwfdUGY",
        "outputId": "a4b370ef-3658-4a83-eef7-3d9c09920cc8"
      },
      "execution_count": 29,
      "outputs": [
        {
          "output_type": "stream",
          "name": "stdout",
          "text": [
            "tensor([[ 0.4011, -1.0246, -0.8915,  0.7343, -0.5087, -1.3533],\n",
            "        [-0.2386, -1.0246, -0.0895, -0.9112, -0.5087, -0.4561],\n",
            "        [ 1.7518, -1.0246, -0.6085, -0.9112,  1.9656, -0.4561],\n",
            "        ...,\n",
            "        [-0.0965,  0.9760, -0.4197, -0.0884, -0.5087, -1.3533],\n",
            "        [ 1.0409, -1.0246,  2.7894, -0.9112,  1.9656,  0.4410],\n",
            "        [ 0.8277, -1.0246,  0.6025, -0.0884, -0.5087,  1.3382]])\n",
            "torch.Size([268, 6])\n"
          ]
        }
      ]
    },
    {
      "cell_type": "code",
      "source": [
        "  # Define Neural network model\n",
        "\n",
        "  class SimpleNNRegressionModel(nn.Module):\n",
        "    def __init__(self, input_dim):\n",
        "      super(SimpleNNRegressionModel, self).__init__()\n",
        "      self.network = nn.Sequential(\n",
        "          nn.Linear(input_dim, 64),\n",
        "          nn.ReLU(),\n",
        "          nn.Linear(64, 128),\n",
        "          nn.ReLU(),\n",
        "          nn.Linear(128, 1)\n",
        "      )\n",
        "\n",
        "    def forward(self, x):\n",
        "      return self.network(x)"
      ],
      "metadata": {
        "id": "vbeCdGMYdUK_"
      },
      "execution_count": 31,
      "outputs": []
    },
    {
      "cell_type": "code",
      "source": [
        "X_train_tensor.shape"
      ],
      "metadata": {
        "colab": {
          "base_uri": "https://localhost:8080/"
        },
        "id": "D-_1s6-8dlHH",
        "outputId": "c68e5989-b0bb-4107-9fab-c283bce73242"
      },
      "execution_count": 32,
      "outputs": [
        {
          "output_type": "execute_result",
          "data": {
            "text/plain": [
              "torch.Size([1070, 6])"
            ]
          },
          "metadata": {},
          "execution_count": 32
        }
      ]
    },
    {
      "cell_type": "code",
      "source": [
        "input_dim = X_train_tensor.shape[1]\n",
        "model = SimpleNNRegressionModel(input_dim)"
      ],
      "metadata": {
        "id": "iclJw264dlOK"
      },
      "execution_count": 33,
      "outputs": []
    },
    {
      "cell_type": "code",
      "source": [
        "print(model)"
      ],
      "metadata": {
        "colab": {
          "base_uri": "https://localhost:8080/"
        },
        "id": "Kjq2eBikdlUh",
        "outputId": "f8f06f86-01f5-41d3-f4d5-b38280500ef4"
      },
      "execution_count": 34,
      "outputs": [
        {
          "output_type": "stream",
          "name": "stdout",
          "text": [
            "SimpleNNRegressionModel(\n",
            "  (network): Sequential(\n",
            "    (0): Linear(in_features=6, out_features=64, bias=True)\n",
            "    (1): ReLU()\n",
            "    (2): Linear(in_features=64, out_features=128, bias=True)\n",
            "    (3): ReLU()\n",
            "    (4): Linear(in_features=128, out_features=1, bias=True)\n",
            "  )\n",
            ")\n"
          ]
        }
      ]
    },
    {
      "cell_type": "code",
      "source": [
        "# Loss and optmiser\n",
        "\n",
        "criterion = nn.MSELoss()\n",
        "optimiser = optim.Adam(model.parameters(), lr=0.01)"
      ],
      "metadata": {
        "id": "4ZmqUMl8dlYx"
      },
      "execution_count": 36,
      "outputs": []
    },
    {
      "cell_type": "code",
      "source": [
        "# Training loop\n",
        "epochs = 30000\n",
        "\n",
        "for epoch in range(epochs):\n",
        "  model.train()\n",
        "  optimiser.zero_grad()\n",
        "  predictions = model(X_train_tensor)\n",
        "  loss = criterion(predictions, y_train_tensor)\n",
        "  loss.backward()\n",
        "\n",
        "  optimiser.step()\n",
        "\n",
        "  if (epoch+1) % 100 == 0:\n",
        "    print(f\"Epoch [{epoch+1}/{epochs}], Loss : {loss.item():.4f}\")"
      ],
      "metadata": {
        "colab": {
          "base_uri": "https://localhost:8080/"
        },
        "id": "OGEfL49rdlby",
        "outputId": "fd27beaa-6444-4ed7-86b3-cbf63815978b"
      },
      "execution_count": 37,
      "outputs": [
        {
          "output_type": "stream",
          "name": "stdout",
          "text": [
            "Epoch [100/30000], Loss : 45874516.0000\n",
            "Epoch [200/30000], Loss : 33009442.0000\n",
            "Epoch [300/30000], Loss : 31251114.0000\n",
            "Epoch [400/30000], Loss : 28996102.0000\n",
            "Epoch [500/30000], Loss : 26770578.0000\n",
            "Epoch [600/30000], Loss : 25338534.0000\n",
            "Epoch [700/30000], Loss : 24453684.0000\n",
            "Epoch [800/30000], Loss : 23875558.0000\n",
            "Epoch [900/30000], Loss : 23483042.0000\n",
            "Epoch [1000/30000], Loss : 23130226.0000\n",
            "Epoch [1100/30000], Loss : 22638864.0000\n",
            "Epoch [1200/30000], Loss : 22051710.0000\n",
            "Epoch [1300/30000], Loss : 21558554.0000\n",
            "Epoch [1400/30000], Loss : 21082380.0000\n",
            "Epoch [1500/30000], Loss : 20643700.0000\n",
            "Epoch [1600/30000], Loss : 20215608.0000\n",
            "Epoch [1700/30000], Loss : 19709128.0000\n",
            "Epoch [1800/30000], Loss : 19328868.0000\n",
            "Epoch [1900/30000], Loss : 18929972.0000\n",
            "Epoch [2000/30000], Loss : 18386772.0000\n",
            "Epoch [2100/30000], Loss : 17704766.0000\n",
            "Epoch [2200/30000], Loss : 17161462.0000\n",
            "Epoch [2300/30000], Loss : 16690321.0000\n",
            "Epoch [2400/30000], Loss : 16196734.0000\n",
            "Epoch [2500/30000], Loss : 15652367.0000\n",
            "Epoch [2600/30000], Loss : 15183812.0000\n",
            "Epoch [2700/30000], Loss : 14740997.0000\n",
            "Epoch [2800/30000], Loss : 14302298.0000\n",
            "Epoch [2900/30000], Loss : 13838147.0000\n",
            "Epoch [3000/30000], Loss : 13435897.0000\n",
            "Epoch [3100/30000], Loss : 13072568.0000\n",
            "Epoch [3200/30000], Loss : 12731977.0000\n",
            "Epoch [3300/30000], Loss : 12338796.0000\n",
            "Epoch [3400/30000], Loss : 11974359.0000\n",
            "Epoch [3500/30000], Loss : 11525698.0000\n",
            "Epoch [3600/30000], Loss : 11151336.0000\n",
            "Epoch [3700/30000], Loss : 10728887.0000\n",
            "Epoch [3800/30000], Loss : 10351961.0000\n",
            "Epoch [3900/30000], Loss : 10014331.0000\n",
            "Epoch [4000/30000], Loss : 9674386.0000\n",
            "Epoch [4100/30000], Loss : 9379166.0000\n",
            "Epoch [4200/30000], Loss : 9043209.0000\n",
            "Epoch [4300/30000], Loss : 8636320.0000\n",
            "Epoch [4400/30000], Loss : 8314203.5000\n",
            "Epoch [4500/30000], Loss : 8047294.5000\n",
            "Epoch [4600/30000], Loss : 7812685.5000\n",
            "Epoch [4700/30000], Loss : 7598829.5000\n",
            "Epoch [4800/30000], Loss : 7400273.0000\n",
            "Epoch [4900/30000], Loss : 7238550.5000\n",
            "Epoch [5000/30000], Loss : 7091396.5000\n",
            "Epoch [5100/30000], Loss : 6943812.0000\n",
            "Epoch [5200/30000], Loss : 6798153.0000\n",
            "Epoch [5300/30000], Loss : 6672964.0000\n",
            "Epoch [5400/30000], Loss : 6553978.5000\n",
            "Epoch [5500/30000], Loss : 6438382.5000\n",
            "Epoch [5600/30000], Loss : 6338004.0000\n",
            "Epoch [5700/30000], Loss : 6212493.5000\n",
            "Epoch [5800/30000], Loss : 6060206.0000\n",
            "Epoch [5900/30000], Loss : 5921542.5000\n",
            "Epoch [6000/30000], Loss : 5766357.5000\n",
            "Epoch [6100/30000], Loss : 5613814.5000\n",
            "Epoch [6200/30000], Loss : 5441938.0000\n",
            "Epoch [6300/30000], Loss : 5325628.5000\n",
            "Epoch [6400/30000], Loss : 5224145.0000\n",
            "Epoch [6500/30000], Loss : 5128790.0000\n",
            "Epoch [6600/30000], Loss : 5046563.0000\n",
            "Epoch [6700/30000], Loss : 4958614.5000\n",
            "Epoch [6800/30000], Loss : 4872240.0000\n",
            "Epoch [6900/30000], Loss : 4790829.5000\n",
            "Epoch [7000/30000], Loss : 4693198.0000\n",
            "Epoch [7100/30000], Loss : 4594244.0000\n",
            "Epoch [7200/30000], Loss : 4490685.0000\n",
            "Epoch [7300/30000], Loss : 4411841.0000\n",
            "Epoch [7400/30000], Loss : 4341188.0000\n",
            "Epoch [7500/30000], Loss : 4268957.0000\n",
            "Epoch [7600/30000], Loss : 4193608.7500\n",
            "Epoch [7700/30000], Loss : 4122572.7500\n",
            "Epoch [7800/30000], Loss : 4047281.5000\n",
            "Epoch [7900/30000], Loss : 3982522.0000\n",
            "Epoch [8000/30000], Loss : 3912280.0000\n",
            "Epoch [8100/30000], Loss : 3844316.5000\n",
            "Epoch [8200/30000], Loss : 3759953.5000\n",
            "Epoch [8300/30000], Loss : 3694410.7500\n",
            "Epoch [8400/30000], Loss : 3616682.2500\n",
            "Epoch [8500/30000], Loss : 3544660.7500\n",
            "Epoch [8600/30000], Loss : 3473795.5000\n",
            "Epoch [8700/30000], Loss : 3409034.5000\n",
            "Epoch [8800/30000], Loss : 3317163.5000\n",
            "Epoch [8900/30000], Loss : 3254097.7500\n",
            "Epoch [9000/30000], Loss : 3206506.2500\n",
            "Epoch [9100/30000], Loss : 3166544.5000\n",
            "Epoch [9200/30000], Loss : 3121152.7500\n",
            "Epoch [9300/30000], Loss : 3082794.5000\n",
            "Epoch [9400/30000], Loss : 3051515.7500\n",
            "Epoch [9500/30000], Loss : 3006421.0000\n",
            "Epoch [9600/30000], Loss : 2971894.0000\n",
            "Epoch [9700/30000], Loss : 2947681.0000\n",
            "Epoch [9800/30000], Loss : 2871249.7500\n",
            "Epoch [9900/30000], Loss : 2823719.7500\n",
            "Epoch [10000/30000], Loss : 2782425.2500\n",
            "Epoch [10100/30000], Loss : 2747917.7500\n",
            "Epoch [10200/30000], Loss : 2740608.5000\n",
            "Epoch [10300/30000], Loss : 2687114.0000\n",
            "Epoch [10400/30000], Loss : 2654791.0000\n",
            "Epoch [10500/30000], Loss : 2632701.0000\n",
            "Epoch [10600/30000], Loss : 2600816.7500\n",
            "Epoch [10700/30000], Loss : 2576428.7500\n",
            "Epoch [10800/30000], Loss : 2548648.0000\n",
            "Epoch [10900/30000], Loss : 2519385.7500\n",
            "Epoch [11000/30000], Loss : 2491670.0000\n",
            "Epoch [11100/30000], Loss : 2469086.7500\n",
            "Epoch [11200/30000], Loss : 2432159.7500\n",
            "Epoch [11300/30000], Loss : 2409968.0000\n",
            "Epoch [11400/30000], Loss : 2386440.0000\n",
            "Epoch [11500/30000], Loss : 2357362.5000\n",
            "Epoch [11600/30000], Loss : 2331572.2500\n",
            "Epoch [11700/30000], Loss : 2318880.2500\n",
            "Epoch [11800/30000], Loss : 2295287.7500\n",
            "Epoch [11900/30000], Loss : 2267239.5000\n",
            "Epoch [12000/30000], Loss : 2248954.0000\n",
            "Epoch [12100/30000], Loss : 2229599.7500\n",
            "Epoch [12200/30000], Loss : 2222512.2500\n",
            "Epoch [12300/30000], Loss : 2189090.7500\n",
            "Epoch [12400/30000], Loss : 2157624.7500\n",
            "Epoch [12500/30000], Loss : 2139627.2500\n",
            "Epoch [12600/30000], Loss : 2116014.7500\n",
            "Epoch [12700/30000], Loss : 2094623.8750\n",
            "Epoch [12800/30000], Loss : 2081249.8750\n",
            "Epoch [12900/30000], Loss : 2059782.5000\n",
            "Epoch [13000/30000], Loss : 2049023.5000\n",
            "Epoch [13100/30000], Loss : 2019008.1250\n",
            "Epoch [13200/30000], Loss : 2001231.7500\n",
            "Epoch [13300/30000], Loss : 1993413.7500\n",
            "Epoch [13400/30000], Loss : 1969426.3750\n",
            "Epoch [13500/30000], Loss : 1948403.0000\n",
            "Epoch [13600/30000], Loss : 1940198.0000\n",
            "Epoch [13700/30000], Loss : 1924652.6250\n",
            "Epoch [13800/30000], Loss : 1906849.7500\n",
            "Epoch [13900/30000], Loss : 1892538.5000\n",
            "Epoch [14000/30000], Loss : 1868160.0000\n",
            "Epoch [14100/30000], Loss : 1863632.3750\n",
            "Epoch [14200/30000], Loss : 1826083.2500\n",
            "Epoch [14300/30000], Loss : 1816955.2500\n",
            "Epoch [14400/30000], Loss : 1789967.1250\n",
            "Epoch [14500/30000], Loss : 1775955.8750\n",
            "Epoch [14600/30000], Loss : 1771105.2500\n",
            "Epoch [14700/30000], Loss : 1744514.7500\n",
            "Epoch [14800/30000], Loss : 1730119.6250\n",
            "Epoch [14900/30000], Loss : 1719374.7500\n",
            "Epoch [15000/30000], Loss : 1710592.6250\n",
            "Epoch [15100/30000], Loss : 1693909.3750\n",
            "Epoch [15200/30000], Loss : 1681147.2500\n",
            "Epoch [15300/30000], Loss : 1674717.1250\n",
            "Epoch [15400/30000], Loss : 1647043.7500\n",
            "Epoch [15500/30000], Loss : 1625095.0000\n",
            "Epoch [15600/30000], Loss : 1614517.3750\n",
            "Epoch [15700/30000], Loss : 1601265.3750\n",
            "Epoch [15800/30000], Loss : 1587615.3750\n",
            "Epoch [15900/30000], Loss : 1594300.0000\n",
            "Epoch [16000/30000], Loss : 1566926.2500\n",
            "Epoch [16100/30000], Loss : 1573016.1250\n",
            "Epoch [16200/30000], Loss : 1565578.3750\n",
            "Epoch [16300/30000], Loss : 1536739.7500\n",
            "Epoch [16400/30000], Loss : 1527592.7500\n",
            "Epoch [16500/30000], Loss : 1518930.1250\n",
            "Epoch [16600/30000], Loss : 1508043.8750\n",
            "Epoch [16700/30000], Loss : 1509512.8750\n",
            "Epoch [16800/30000], Loss : 1496639.2500\n",
            "Epoch [16900/30000], Loss : 1498576.0000\n",
            "Epoch [17000/30000], Loss : 1471191.5000\n",
            "Epoch [17100/30000], Loss : 1463962.2500\n",
            "Epoch [17200/30000], Loss : 1457184.7500\n",
            "Epoch [17300/30000], Loss : 1449052.2500\n",
            "Epoch [17400/30000], Loss : 1438721.3750\n",
            "Epoch [17500/30000], Loss : 1447894.6250\n",
            "Epoch [17600/30000], Loss : 1440901.5000\n",
            "Epoch [17700/30000], Loss : 1435989.3750\n",
            "Epoch [17800/30000], Loss : 1419929.5000\n",
            "Epoch [17900/30000], Loss : 1426031.0000\n",
            "Epoch [18000/30000], Loss : 1406431.6250\n",
            "Epoch [18100/30000], Loss : 1393518.3750\n",
            "Epoch [18200/30000], Loss : 1376036.0000\n",
            "Epoch [18300/30000], Loss : 1366813.0000\n",
            "Epoch [18400/30000], Loss : 1383957.8750\n",
            "Epoch [18500/30000], Loss : 1365794.3750\n",
            "Epoch [18600/30000], Loss : 1344364.1250\n",
            "Epoch [18700/30000], Loss : 1351888.3750\n",
            "Epoch [18800/30000], Loss : 1331425.0000\n",
            "Epoch [18900/30000], Loss : 1323894.3750\n",
            "Epoch [19000/30000], Loss : 1324404.5000\n",
            "Epoch [19100/30000], Loss : 1309397.3750\n",
            "Epoch [19200/30000], Loss : 1312647.6250\n",
            "Epoch [19300/30000], Loss : 1308169.7500\n",
            "Epoch [19400/30000], Loss : 1294798.7500\n",
            "Epoch [19500/30000], Loss : 1282134.2500\n",
            "Epoch [19600/30000], Loss : 1323050.7500\n",
            "Epoch [19700/30000], Loss : 1275382.8750\n",
            "Epoch [19800/30000], Loss : 1275990.8750\n",
            "Epoch [19900/30000], Loss : 1287145.7500\n",
            "Epoch [20000/30000], Loss : 1255563.2500\n",
            "Epoch [20100/30000], Loss : 1268818.8750\n",
            "Epoch [20200/30000], Loss : 1257498.7500\n",
            "Epoch [20300/30000], Loss : 1266137.3750\n",
            "Epoch [20400/30000], Loss : 1249213.0000\n",
            "Epoch [20500/30000], Loss : 1248925.5000\n",
            "Epoch [20600/30000], Loss : 1220839.8750\n",
            "Epoch [20700/30000], Loss : 1215440.0000\n",
            "Epoch [20800/30000], Loss : 1235124.0000\n",
            "Epoch [20900/30000], Loss : 1204494.8750\n",
            "Epoch [21000/30000], Loss : 1202733.8750\n",
            "Epoch [21100/30000], Loss : 1198523.5000\n",
            "Epoch [21200/30000], Loss : 1203474.0000\n",
            "Epoch [21300/30000], Loss : 1190726.3750\n",
            "Epoch [21400/30000], Loss : 1177613.5000\n",
            "Epoch [21500/30000], Loss : 1193452.1250\n",
            "Epoch [21600/30000], Loss : 1175868.7500\n",
            "Epoch [21700/30000], Loss : 1183893.2500\n",
            "Epoch [21800/30000], Loss : 1159234.1250\n",
            "Epoch [21900/30000], Loss : 1169742.5000\n",
            "Epoch [22000/30000], Loss : 1161266.2500\n",
            "Epoch [22100/30000], Loss : 1165918.3750\n",
            "Epoch [22200/30000], Loss : 1153677.3750\n",
            "Epoch [22300/30000], Loss : 1138767.3750\n",
            "Epoch [22400/30000], Loss : 1134905.1250\n",
            "Epoch [22500/30000], Loss : 1127653.8750\n",
            "Epoch [22600/30000], Loss : 1148361.5000\n",
            "Epoch [22700/30000], Loss : 1131237.3750\n",
            "Epoch [22800/30000], Loss : 1117009.6250\n",
            "Epoch [22900/30000], Loss : 1141508.0000\n",
            "Epoch [23000/30000], Loss : 1108101.1250\n",
            "Epoch [23100/30000], Loss : 1142772.6250\n",
            "Epoch [23200/30000], Loss : 1103183.6250\n",
            "Epoch [23300/30000], Loss : 1097450.6250\n",
            "Epoch [23400/30000], Loss : 1092712.0000\n",
            "Epoch [23500/30000], Loss : 1093514.3750\n",
            "Epoch [23600/30000], Loss : 1089192.1250\n",
            "Epoch [23700/30000], Loss : 1113524.8750\n",
            "Epoch [23800/30000], Loss : 1085372.5000\n",
            "Epoch [23900/30000], Loss : 1076786.2500\n",
            "Epoch [24000/30000], Loss : 1071628.1250\n",
            "Epoch [24100/30000], Loss : 1073167.2500\n",
            "Epoch [24200/30000], Loss : 1073500.0000\n",
            "Epoch [24300/30000], Loss : 1058746.1250\n",
            "Epoch [24400/30000], Loss : 1080765.7500\n",
            "Epoch [24500/30000], Loss : 1059954.5000\n",
            "Epoch [24600/30000], Loss : 1051125.2500\n",
            "Epoch [24700/30000], Loss : 1053514.1250\n",
            "Epoch [24800/30000], Loss : 1042840.0625\n",
            "Epoch [24900/30000], Loss : 1055746.3750\n",
            "Epoch [25000/30000], Loss : 1034586.9375\n",
            "Epoch [25100/30000], Loss : 1030700.1250\n",
            "Epoch [25200/30000], Loss : 1053246.1250\n",
            "Epoch [25300/30000], Loss : 1034872.2500\n",
            "Epoch [25400/30000], Loss : 1032550.3750\n",
            "Epoch [25500/30000], Loss : 1035109.8125\n",
            "Epoch [25600/30000], Loss : 1013482.2500\n",
            "Epoch [25700/30000], Loss : 1016914.0625\n",
            "Epoch [25800/30000], Loss : 1030398.4375\n",
            "Epoch [25900/30000], Loss : 1004614.9375\n",
            "Epoch [26000/30000], Loss : 1010575.6875\n",
            "Epoch [26100/30000], Loss : 1000376.4375\n",
            "Epoch [26200/30000], Loss : 1008589.7500\n",
            "Epoch [26300/30000], Loss : 997838.0000\n",
            "Epoch [26400/30000], Loss : 991454.6875\n",
            "Epoch [26500/30000], Loss : 990593.1875\n",
            "Epoch [26600/30000], Loss : 1029469.6875\n",
            "Epoch [26700/30000], Loss : 995796.5000\n",
            "Epoch [26800/30000], Loss : 980294.4375\n",
            "Epoch [26900/30000], Loss : 990824.0625\n",
            "Epoch [27000/30000], Loss : 984585.1875\n",
            "Epoch [27100/30000], Loss : 991294.8750\n",
            "Epoch [27200/30000], Loss : 973146.8750\n",
            "Epoch [27300/30000], Loss : 968894.9375\n",
            "Epoch [27400/30000], Loss : 964144.5000\n",
            "Epoch [27500/30000], Loss : 972318.6875\n",
            "Epoch [27600/30000], Loss : 976227.9375\n",
            "Epoch [27700/30000], Loss : 971181.1250\n",
            "Epoch [27800/30000], Loss : 959937.6250\n",
            "Epoch [27900/30000], Loss : 964019.1250\n",
            "Epoch [28000/30000], Loss : 975314.9375\n",
            "Epoch [28100/30000], Loss : 953114.9375\n",
            "Epoch [28200/30000], Loss : 943157.1250\n",
            "Epoch [28300/30000], Loss : 949558.1250\n",
            "Epoch [28400/30000], Loss : 941285.0000\n",
            "Epoch [28500/30000], Loss : 944864.0625\n",
            "Epoch [28600/30000], Loss : 936042.3125\n",
            "Epoch [28700/30000], Loss : 931133.8125\n",
            "Epoch [28800/30000], Loss : 953670.6250\n",
            "Epoch [28900/30000], Loss : 927130.2500\n",
            "Epoch [29000/30000], Loss : 927245.7500\n",
            "Epoch [29100/30000], Loss : 933289.5000\n",
            "Epoch [29200/30000], Loss : 930462.1875\n",
            "Epoch [29300/30000], Loss : 942368.5000\n",
            "Epoch [29400/30000], Loss : 929506.8125\n",
            "Epoch [29500/30000], Loss : 915386.6250\n",
            "Epoch [29600/30000], Loss : 921321.3750\n",
            "Epoch [29700/30000], Loss : 906560.7500\n",
            "Epoch [29800/30000], Loss : 905123.3750\n",
            "Epoch [29900/30000], Loss : 904998.8125\n",
            "Epoch [30000/30000], Loss : 948535.5625\n"
          ]
        }
      ]
    },
    {
      "cell_type": "code",
      "source": [
        "# Model Evaluation\n",
        "\n",
        "model.eval()\n",
        "y_pred = model(X_test_tensor).detach().numpy()"
      ],
      "metadata": {
        "id": "Wjur7VSsdlf7"
      },
      "execution_count": 39,
      "outputs": []
    },
    {
      "cell_type": "code",
      "source": [
        "from sklearn.metrics import mean_squared_error, mean_absolute_error, r2_score\n",
        "\n",
        "y_test_numpy = y_test_tensor.numpy()\n",
        "\n",
        "# Calculate metrics\n",
        "mse = mean_squared_error(y_test_numpy, y_pred)\n",
        "rmse = mse ** 0.5\n",
        "mae = mean_absolute_error(y_test_numpy, y_pred)\n",
        "r2 = r2_score(y_test_numpy, y_pred)\n",
        "\n",
        "print(f\"MSE : {mse}\")\n",
        "print(f\"RMSE : {rmse}\")\n",
        "print(f\"MAE : {mae}\")\n",
        "print(f\"R2-Score : {r2}\")\n",
        "\n",
        "# 0 --> 0"
      ],
      "metadata": {
        "colab": {
          "base_uri": "https://localhost:8080/"
        },
        "id": "6ikiFTE-dlkL",
        "outputId": "40978dae-7fc5-4d34-80ad-5378de20a303"
      },
      "execution_count": 40,
      "outputs": [
        {
          "output_type": "stream",
          "name": "stdout",
          "text": [
            "MSE : 193158928.0\n",
            "RMSE : 13898.162756278256\n",
            "MAE : 5448.24169921875\n",
            "R2-Score : -0.24418997764587402\n"
          ]
        }
      ]
    },
    {
      "cell_type": "code",
      "source": [
        "def predict_charges(age, sex, bmi, children, smoker,region):\n",
        "  input_data = pd.DataFrame([[age, sex, bmi, children, smoker,region]],\n",
        "               columns=['age', 'sex', 'bmi', 'children', 'smoker', 'region'])\n",
        "\n",
        "  for col in ['sex', 'smoker', 'region']:\n",
        "    input_data[col] = label_encoder[col].transform(input_data[col])\n",
        "  input_data = scaler.transform(input_data)\n",
        "  input_tensor = torch.tensor(input_data, dtype=torch.float32)\n",
        "  predicted_charge = model(input_tensor).item()\n",
        "  return predicted_charge\n"
      ],
      "metadata": {
        "id": "FxvEWktFeKiW"
      },
      "execution_count": 41,
      "outputs": []
    },
    {
      "cell_type": "code",
      "source": [
        "predicted = predict_charges(50, 'female', 27.9, 0, 'yes', 'southwest')"
      ],
      "metadata": {
        "id": "nBMmldN7eKms"
      },
      "execution_count": 42,
      "outputs": []
    },
    {
      "cell_type": "code",
      "source": [
        "print(f\"Predicted insurance charge: ${predicted:.2f}\")"
      ],
      "metadata": {
        "colab": {
          "base_uri": "https://localhost:8080/"
        },
        "id": "h4a9aXIOeKru",
        "outputId": "460fb9ea-2fe9-4091-a5d0-7521a6cb3dd1"
      },
      "execution_count": 43,
      "outputs": [
        {
          "output_type": "stream",
          "name": "stdout",
          "text": [
            "Predicted insurance charge: $31646.33\n"
          ]
        }
      ]
    },
    {
      "cell_type": "code",
      "source": [],
      "metadata": {
        "id": "IWITiuJ-eKwZ"
      },
      "execution_count": null,
      "outputs": []
    },
    {
      "cell_type": "code",
      "source": [],
      "metadata": {
        "id": "rV3a69X6eK02"
      },
      "execution_count": null,
      "outputs": []
    }
  ],
  "metadata": {
    "colab": {
      "provenance": [],
      "authorship_tag": "ABX9TyOiRK1iCqrhWF95qRbJ3ZFO",
      "include_colab_link": true
    },
    "kernelspec": {
      "display_name": "Python 3",
      "name": "python3"
    },
    "language_info": {
      "name": "python"
    }
  },
  "nbformat": 4,
  "nbformat_minor": 0
}