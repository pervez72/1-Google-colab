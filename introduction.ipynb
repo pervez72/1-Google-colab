{
  "nbformat": 4,
  "nbformat_minor": 0,
  "metadata": {
    "colab": {
      "provenance": [],
      "gpuType": "T4",
      "authorship_tag": "ABX9TyMrafCFXPuPxT2JS7OBDb1H",
      "include_colab_link": true
    },
    "kernelspec": {
      "name": "python3",
      "display_name": "Python 3"
    },
    "language_info": {
      "name": "python"
    },
    "accelerator": "GPU"
  },
  "cells": [
    {
      "cell_type": "markdown",
      "metadata": {
        "id": "view-in-github",
        "colab_type": "text"
      },
      "source": [
        "<a href=\"https://colab.research.google.com/github/pervez72/1-Google-colab/blob/main/introduction.ipynb\" target=\"_parent\"><img src=\"https://colab.research.google.com/assets/colab-badge.svg\" alt=\"Open In Colab\"/></a>"
      ]
    },
    {
      "cell_type": "code",
      "execution_count": 3,
      "metadata": {
        "id": "KS_S82_KNiAi"
      },
      "outputs": [],
      "source": [
        "import torch"
      ]
    },
    {
      "cell_type": "code",
      "source": [
        "# 0D Tensor (Scalar)\n",
        "scalar = torch.tensor(7)\n",
        "print(\"0D Tensor (Scalar):\", scalar)\n",
        "print(\"Shape:\", scalar.shape)  # কোনো dimension নেই\n",
        "\n"
      ],
      "metadata": {
        "id": "hmRLseXmNwD8",
        "colab": {
          "base_uri": "https://localhost:8080/"
        },
        "outputId": "f129386c-375b-4df1-e565-b0f82c7f327c"
      },
      "execution_count": 4,
      "outputs": [
        {
          "output_type": "stream",
          "name": "stdout",
          "text": [
            "0D Tensor (Scalar): tensor(7)\n",
            "Shape: torch.Size([])\n"
          ]
        }
      ]
    },
    {
      "cell_type": "code",
      "source": [
        "# 1D Tensor (Vector)\n",
        "vector = torch.tensor([1, 2, 3, 4])\n",
        "print(\"\\n1D Tensor (Vector):\", vector)\n",
        "print(\"Shape:\", vector.shape)  # (4,)\n",
        "\n"
      ],
      "metadata": {
        "colab": {
          "base_uri": "https://localhost:8080/"
        },
        "id": "T06oorsLSczy",
        "outputId": "83e93e6d-ede9-4718-9e7d-5dbe31787a4f"
      },
      "execution_count": 5,
      "outputs": [
        {
          "output_type": "stream",
          "name": "stdout",
          "text": [
            "\n",
            "1D Tensor (Vector): tensor([1, 2, 3, 4])\n",
            "Shape: torch.Size([4])\n"
          ]
        }
      ]
    },
    {
      "cell_type": "code",
      "source": [
        "# 2D Tensor (Matrix)\n",
        "matrix = torch.tensor([[1, 2, 3],\n",
        "                       [4, 5, 6]])\n",
        "print(\"\\n2D Tensor (Matrix):\\n\", matrix)\n",
        "print(\"Shape:\", matrix.shape)  # (2, 3)\n"
      ],
      "metadata": {
        "colab": {
          "base_uri": "https://localhost:8080/"
        },
        "id": "YiP99NfuUWLc",
        "outputId": "6c930834-86f0-4f7a-87c0-896686cf73ff"
      },
      "execution_count": 6,
      "outputs": [
        {
          "output_type": "stream",
          "name": "stdout",
          "text": [
            "\n",
            "2D Tensor (Matrix):\n",
            " tensor([[1, 2, 3],\n",
            "        [4, 5, 6]])\n",
            "Shape: torch.Size([2, 3])\n"
          ]
        }
      ]
    },
    {
      "cell_type": "code",
      "source": [
        "\n",
        "\n",
        "# 3D Tensor\n",
        "tensor3d = torch.tensor([[[1, 2], [3, 4]],\n",
        "                         [[5, 6], [7, 8]]])\n",
        "print(\"\\n3D Tensor:\\n\", tensor3d)\n",
        "print(\"Shape:\", tensor3d.shape)  # (2, 2, 2)\n",
        "\n",
        "\n"
      ],
      "metadata": {
        "colab": {
          "base_uri": "https://localhost:8080/"
        },
        "id": "emcG1Jt1UWXk",
        "outputId": "4af2ffb4-f69f-477a-b746-5792c9939460"
      },
      "execution_count": 7,
      "outputs": [
        {
          "output_type": "stream",
          "name": "stdout",
          "text": [
            "\n",
            "3D Tensor:\n",
            " tensor([[[1, 2],\n",
            "         [3, 4]],\n",
            "\n",
            "        [[5, 6],\n",
            "         [7, 8]]])\n",
            "Shape: torch.Size([2, 2, 2])\n"
          ]
        }
      ]
    },
    {
      "cell_type": "code",
      "source": [
        "\n",
        "# 4D Tensor (CNN data format example: batch × channel × height × width)\n",
        "tensor4d = torch.rand(10, 3, 28, 28)  # 10 images, 3 channels, 28x28 size\n",
        "print(\"\\n4D Tensor (Image batch): Shape =\", tensor4d.shape)\n"
      ],
      "metadata": {
        "colab": {
          "base_uri": "https://localhost:8080/"
        },
        "id": "q7Dhi402UWd3",
        "outputId": "fbdadefa-5926-472c-8092-e848da8473c0"
      },
      "execution_count": 8,
      "outputs": [
        {
          "output_type": "stream",
          "name": "stdout",
          "text": [
            "\n",
            "4D Tensor (Image batch): Shape = torch.Size([10, 3, 28, 28])\n"
          ]
        }
      ]
    },
    {
      "cell_type": "code",
      "source": [
        "# 5D Tensor (Video data format example: batch × channel × frames × height × width)\n",
        "tensor5d = torch.rand(8, 3, 16, 64, 64)  # 8 videos, 3 channels, 16 frames, 64x64 resolution\n",
        "print(\"\\n5D Tensor (Video batch): Shape =\", tensor5d.shape)"
      ],
      "metadata": {
        "colab": {
          "base_uri": "https://localhost:8080/"
        },
        "id": "xcEBJr-uUWk6",
        "outputId": "727d3496-9155-4f0d-feaa-0ec386fc67e4"
      },
      "execution_count": 9,
      "outputs": [
        {
          "output_type": "stream",
          "name": "stdout",
          "text": [
            "\n",
            "5D Tensor (Video batch): Shape = torch.Size([8, 3, 16, 64, 64])\n"
          ]
        }
      ]
    },
    {
      "cell_type": "code",
      "source": [],
      "metadata": {
        "id": "zJcUWUM2UWuC"
      },
      "execution_count": 9,
      "outputs": []
    },
    {
      "cell_type": "code",
      "source": [],
      "metadata": {
        "id": "62uFC40QUWze"
      },
      "execution_count": 9,
      "outputs": []
    },
    {
      "cell_type": "code",
      "source": [],
      "metadata": {
        "id": "RAoF1gseUW22"
      },
      "execution_count": 9,
      "outputs": []
    }
  ]
}