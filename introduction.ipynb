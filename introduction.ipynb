{
  "nbformat": 4,
  "nbformat_minor": 0,
  "metadata": {
    "colab": {
      "provenance": [],
      "gpuType": "T4",
      "authorship_tag": "ABX9TyPRRpVLq87lDP85WGQdAM1g",
      "include_colab_link": true
    },
    "kernelspec": {
      "name": "python3",
      "display_name": "Python 3"
    },
    "language_info": {
      "name": "python"
    },
    "accelerator": "GPU"
  },
  "cells": [
    {
      "cell_type": "markdown",
      "metadata": {
        "id": "view-in-github",
        "colab_type": "text"
      },
      "source": [
        "<a href=\"https://colab.research.google.com/github/pervez72/1-Google-colab/blob/main/introduction.ipynb\" target=\"_parent\"><img src=\"https://colab.research.google.com/assets/colab-badge.svg\" alt=\"Open In Colab\"/></a>"
      ]
    },
    {
      "cell_type": "markdown",
      "source": [
        "Tensor Basics"
      ],
      "metadata": {
        "id": "7Z0KkwYtax5C"
      }
    },
    {
      "cell_type": "code",
      "execution_count": 6,
      "metadata": {
        "id": "KS_S82_KNiAi"
      },
      "outputs": [],
      "source": [
        "import torch"
      ]
    },
    {
      "cell_type": "code",
      "source": [
        "# 0D Tensor (Scalar)\n",
        "scalar = torch.tensor(7)\n",
        "print(\"0D Tensor (Scalar):\", scalar)\n",
        "print(\"Shape:\", scalar.shape)  # কোনো dimension নেই\n",
        "\n"
      ],
      "metadata": {
        "id": "hmRLseXmNwD8",
        "colab": {
          "base_uri": "https://localhost:8080/"
        },
        "outputId": "41357ff1-a84b-473e-aec7-b5e8ee3e5d9b"
      },
      "execution_count": 7,
      "outputs": [
        {
          "output_type": "stream",
          "name": "stdout",
          "text": [
            "0D Tensor (Scalar): tensor(7)\n",
            "Shape: torch.Size([])\n"
          ]
        }
      ]
    },
    {
      "cell_type": "code",
      "source": [
        "# 1D Tensor (Vector)\n",
        "vector = torch.tensor([1, 2, 3, 4])\n",
        "print(\"\\n1D Tensor (Vector):\", vector)\n",
        "print(\"Shape:\", vector.shape)  # (4,)\n",
        "\n"
      ],
      "metadata": {
        "colab": {
          "base_uri": "https://localhost:8080/"
        },
        "id": "T06oorsLSczy",
        "outputId": "10380d92-e0f9-4850-ed33-cc8f2e4c86e9"
      },
      "execution_count": 8,
      "outputs": [
        {
          "output_type": "stream",
          "name": "stdout",
          "text": [
            "\n",
            "1D Tensor (Vector): tensor([1, 2, 3, 4])\n",
            "Shape: torch.Size([4])\n"
          ]
        }
      ]
    },
    {
      "cell_type": "code",
      "source": [
        "# 2D Tensor (Matrix)\n",
        "matrix = torch.tensor([[1, 2, 3],\n",
        "                       [4, 5, 6]])\n",
        "print(\"\\n2D Tensor (Matrix):\\n\", matrix)\n",
        "print(\"Shape:\", matrix.shape)  # (2, 3)\n"
      ],
      "metadata": {
        "colab": {
          "base_uri": "https://localhost:8080/"
        },
        "id": "YiP99NfuUWLc",
        "outputId": "bcfeec60-1556-4d20-acc6-4d895cf27ca8"
      },
      "execution_count": 9,
      "outputs": [
        {
          "output_type": "stream",
          "name": "stdout",
          "text": [
            "\n",
            "2D Tensor (Matrix):\n",
            " tensor([[1, 2, 3],\n",
            "        [4, 5, 6]])\n",
            "Shape: torch.Size([2, 3])\n"
          ]
        }
      ]
    },
    {
      "cell_type": "markdown",
      "source": [],
      "metadata": {
        "id": "FkCeq9YGau_z"
      }
    },
    {
      "cell_type": "code",
      "source": [
        "\n",
        "\n",
        "# 3D Tensor\n",
        "tensor3d = torch.tensor([[[1, 2], [3, 4]],\n",
        "                         [[5, 6], [7, 8]]])\n",
        "print(\"\\n3D Tensor:\\n\", tensor3d)\n",
        "print(\"Shape:\", tensor3d.shape)  # (2, 2, 2)\n",
        "\n",
        "\n"
      ],
      "metadata": {
        "colab": {
          "base_uri": "https://localhost:8080/"
        },
        "id": "emcG1Jt1UWXk",
        "outputId": "231afe20-bcf6-4699-bb18-ea7ba2b87058"
      },
      "execution_count": 10,
      "outputs": [
        {
          "output_type": "stream",
          "name": "stdout",
          "text": [
            "\n",
            "3D Tensor:\n",
            " tensor([[[1, 2],\n",
            "         [3, 4]],\n",
            "\n",
            "        [[5, 6],\n",
            "         [7, 8]]])\n",
            "Shape: torch.Size([2, 2, 2])\n"
          ]
        }
      ]
    },
    {
      "cell_type": "code",
      "source": [
        "\n",
        "# 4D Tensor (CNN data format example: batch × channel × height × width)\n",
        "tensor4d = torch.rand(10, 3, 28, 28)  # 10 images, 3 channels, 28x28 size\n",
        "print(\"\\n4D Tensor (Image batch): Shape =\", tensor4d.shape)\n"
      ],
      "metadata": {
        "colab": {
          "base_uri": "https://localhost:8080/"
        },
        "id": "q7Dhi402UWd3",
        "outputId": "6553aa68-f341-4f34-b95f-78e3fc447798"
      },
      "execution_count": 11,
      "outputs": [
        {
          "output_type": "stream",
          "name": "stdout",
          "text": [
            "\n",
            "4D Tensor (Image batch): Shape = torch.Size([10, 3, 28, 28])\n"
          ]
        }
      ]
    },
    {
      "cell_type": "code",
      "source": [
        "# 5D Tensor (Video data format example: batch × channel × frames × height × width)\n",
        "tensor5d = torch.rand(8, 3, 16, 64, 64)  # 8 videos, 3 channels, 16 frames, 64x64 resolution\n",
        "print(\"\\n5D Tensor (Video batch): Shape =\", tensor5d.shape)"
      ],
      "metadata": {
        "colab": {
          "base_uri": "https://localhost:8080/"
        },
        "id": "xcEBJr-uUWk6",
        "outputId": "81f901f4-2124-4266-ed4c-513dfa0ad039"
      },
      "execution_count": 12,
      "outputs": [
        {
          "output_type": "stream",
          "name": "stdout",
          "text": [
            "\n",
            "5D Tensor (Video batch): Shape = torch.Size([8, 3, 16, 64, 64])\n"
          ]
        }
      ]
    },
    {
      "cell_type": "markdown",
      "source": [
        "**Temsor Index**"
      ],
      "metadata": {
        "id": "DAqFIbjva4xN"
      }
    },
    {
      "cell_type": "code",
      "source": [
        "import torch\n",
        "scalar = torch.tensor(42)\n",
        "print(scalar.item())  # শুধু একটাই value, তাই .item() দিয়ে access করা হয়"
      ],
      "metadata": {
        "colab": {
          "base_uri": "https://localhost:8080/"
        },
        "id": "62uFC40QUWze",
        "outputId": "b6050a9d-2ffd-45af-f4e0-d589b3703775"
      },
      "execution_count": 13,
      "outputs": [
        {
          "output_type": "stream",
          "name": "stdout",
          "text": [
            "42\n"
          ]
        }
      ]
    },
    {
      "cell_type": "code",
      "source": [
        "vector = torch.tensor([10, 20, 30, 40, 50])\n",
        "print(vector[0])   # প্রথম element → 10\n",
        "print(vector[-1])  # শেষ element → 50\n",
        "print(vector[1:4]) # slicing → [20, 30, 40]"
      ],
      "metadata": {
        "colab": {
          "base_uri": "https://localhost:8080/"
        },
        "id": "YeeZy7Bpc181",
        "outputId": "24f9a0da-308e-4af2-d91d-c43bcbca02a5"
      },
      "execution_count": 14,
      "outputs": [
        {
          "output_type": "stream",
          "name": "stdout",
          "text": [
            "tensor(10)\n",
            "tensor(50)\n",
            "tensor([20, 30, 40])\n"
          ]
        }
      ]
    },
    {
      "cell_type": "code",
      "source": [
        "matrix = torch.tensor([[1, 2, 3],\n",
        "                       [4, 5, 6],\n",
        "                       [7, 8, 9]])\n",
        "\n",
        "print(matrix[0, 0])   # Row=0, Col=0 → 1\n",
        "print(matrix[1, 2])   # Row=1, Col=2 → 6\n",
        "print(matrix[2])      # পুরো 3rd row → [7, 8, 9]\n",
        "print(matrix[:, 1])   # পুরো 2nd column → [2, 5, 8]\n",
        "print(matrix[0:2, 1:3])  # Sub-matrix slice\n"
      ],
      "metadata": {
        "colab": {
          "base_uri": "https://localhost:8080/"
        },
        "id": "hLGy51ATc2Cn",
        "outputId": "b32d4b82-c760-4c1f-f4b8-3db48866d896"
      },
      "execution_count": 15,
      "outputs": [
        {
          "output_type": "stream",
          "name": "stdout",
          "text": [
            "tensor(1)\n",
            "tensor(6)\n",
            "tensor([7, 8, 9])\n",
            "tensor([2, 5, 8])\n",
            "tensor([[2, 3],\n",
            "        [5, 6]])\n"
          ]
        }
      ]
    },
    {
      "cell_type": "code",
      "source": [
        "tensor3d = torch.tensor([[[1, 2], [3, 4]],\n",
        "                         [[5, 6], [7, 8]]])\n",
        "# Shape = (2, 2, 2)\n",
        "\n",
        "print(tensor3d[0, 0, 1])   # 0th matrix, 0th row, 1st col → 2\n",
        "print(tensor3d[1, 1, 0])   # 1st matrix, 1st row, 0th col → 7\n",
        "print(tensor3d[0])         # পুরো প্রথম matrix\n",
        "print(tensor3d[:, 1, :])   # প্রতিটা matrix-এর 2nd row\n",
        "tensor4d = torch.rand(2, 3, 4, 4)\n",
        "# 2 images, 3 channels, 4x4 size\n",
        "\n",
        "print(tensor4d.shape)   # torch.Size([2, 3, 4, 4])\n",
        "print(tensor4d[0, 0])   # প্রথম image-এর প্রথম channel (4x4 matrix)\n",
        "print(tensor4d[1, 2, 3, 1])  # 2nd image, 3rd channel, row=3, col=1 element\n"
      ],
      "metadata": {
        "colab": {
          "base_uri": "https://localhost:8080/"
        },
        "id": "8hgBShQmc2HH",
        "outputId": "7810a6d8-969f-4e07-85a9-452175a7d208"
      },
      "execution_count": 16,
      "outputs": [
        {
          "output_type": "stream",
          "name": "stdout",
          "text": [
            "tensor(2)\n",
            "tensor(7)\n",
            "tensor([[1, 2],\n",
            "        [3, 4]])\n",
            "tensor([[3, 4],\n",
            "        [7, 8]])\n",
            "torch.Size([2, 3, 4, 4])\n",
            "tensor([[0.8440, 0.3373, 0.6253, 0.6443],\n",
            "        [0.6643, 0.9161, 0.1477, 0.2852],\n",
            "        [0.6135, 0.8126, 0.9738, 0.0111],\n",
            "        [0.6142, 0.3077, 0.4988, 0.2890]])\n",
            "tensor(0.0153)\n"
          ]
        }
      ]
    },
    {
      "cell_type": "code",
      "source": [
        "tensor4d = torch.rand(2, 3, 4, 4)\n",
        "# 2 images, 3 channels, 4x4 size\n",
        "\n",
        "print(tensor4d.shape)   # torch.Size([2, 3, 4, 4])\n",
        "print(tensor4d[0, 0])   # প্রথম image-এর প্রথম channel (4x4 matrix)\n",
        "print(tensor4d[1, 2, 3, 1])  # 2nd image, 3rd channel, row=3, col=1 element\n"
      ],
      "metadata": {
        "colab": {
          "base_uri": "https://localhost:8080/"
        },
        "id": "elzwL2p9c2K0",
        "outputId": "5217df6b-d1b0-45df-8a41-18620a657555"
      },
      "execution_count": 17,
      "outputs": [
        {
          "output_type": "stream",
          "name": "stdout",
          "text": [
            "torch.Size([2, 3, 4, 4])\n",
            "tensor([[0.2944, 0.1838, 0.2100, 0.4264],\n",
            "        [0.1883, 0.2400, 0.2768, 0.6110],\n",
            "        [0.3922, 0.5096, 0.2686, 0.5582],\n",
            "        [0.8608, 0.5117, 0.3498, 0.5592]])\n",
            "tensor(0.6616)\n"
          ]
        }
      ]
    },
    {
      "cell_type": "code",
      "source": [],
      "metadata": {
        "id": "axrHEL2Hc2OZ"
      },
      "execution_count": 17,
      "outputs": []
    },
    {
      "cell_type": "markdown",
      "source": [
        "Noise image Create"
      ],
      "metadata": {
        "id": "wlg8a_xy-w8Q"
      }
    },
    {
      "cell_type": "code",
      "source": [
        "import torch\n",
        "import matplotlib.pyplot as plt"
      ],
      "metadata": {
        "id": "aI4669qgc2-2"
      },
      "execution_count": 18,
      "outputs": []
    },
    {
      "cell_type": "code",
      "source": [
        "# Random image tensor\n",
        "# shape = [Channels, Height, Width]\n",
        "random_image = torch.rand(3, 64, 64)  # values between 0-1"
      ],
      "metadata": {
        "id": "RAoF1gseUW22"
      },
      "execution_count": 19,
      "outputs": []
    },
    {
      "cell_type": "code",
      "source": [
        "# Convert tensor to numpy for matplotlib\n",
        "plt.imshow(random_image.permute(1, 2, 0))  # [H, W, C] format\n",
        "plt.axis('off')  # axis remove\n",
        "plt.show()"
      ],
      "metadata": {
        "colab": {
          "base_uri": "https://localhost:8080/",
          "height": 406
        },
        "id": "riezA5C1-3eE",
        "outputId": "120b690b-7ceb-4fa1-eab4-87c3a56e9779"
      },
      "execution_count": 20,
      "outputs": [
        {
          "output_type": "display_data",
          "data": {
            "text/plain": [
              "<Figure size 640x480 with 1 Axes>"
            ],
            "image/png": "[encoded data removed]"
          },
          "metadata": {}
        }
      ]
    },
    {
      "cell_type": "code",
      "source": [
        "random_image = torch.randint(0, 256, (3,64,64), dtype=torch.uint8)\n",
        "plt.imshow(random_image.permute(1,2,0))\n"
      ],
      "metadata": {
        "colab": {
          "base_uri": "https://localhost:8080/",
          "height": 449
        },
        "id": "tymD_KEI-3hn",
        "outputId": "13ac4ff1-98d9-4559-c4f8-eaa3a7b09993"
      },
      "execution_count": 5,
      "outputs": [
        {
          "output_type": "execute_result",
          "data": {
            "text/plain": [
              "<matplotlib.image.AxesImage at 0x7bebbb4822a0>"
            ]
          },
          "metadata": {},
          "execution_count": 5
        },
        {
          "output_type": "display_data",
          "data": {
            "text/plain": [
              "<Figure size 640x480 with 1 Axes>"
            ],
            "image/png": "[encoded data removed]"
          },
          "metadata": {}
        }
      ]
    },
    {
      "cell_type": "markdown",
      "source": [
        "## **Zero and One**"
      ],
      "metadata": {
        "id": "4PYSHxFB_zwl"
      }
    },
    {
      "cell_type": "code",
      "source": [
        "import torch\n",
        "import matplotlib.pyplot as plt\n",
        "\n",
        "# ========================\n",
        "# 1️⃣ Random Binary RGB Image (0/1)\n",
        "# ========================\n",
        "binary_rgb = torch.randint(0, 2, (3, 64, 64))  # shape [C,H,W], values 0 or 1\n",
        "\n",
        "plt.figure(figsize=(4,4))\n",
        "plt.imshow(binary_rgb.permute(1, 2, 0))  # convert to [H,W,C] for matplotlib\n",
        "plt.title(\"Binary RGB Image\")\n",
        "plt.axis('off')\n",
        "plt.show()\n",
        "\n",
        "# ========================\n",
        "# 2️⃣ Random Binary Grayscale Image (0/1)\n",
        "# ========================\n",
        "binary_gray = torch.randint(0, 2, (1, 64, 64))  # shape [1,H,W]\n",
        "\n",
        "plt.figure(figsize=(4,4))\n",
        "plt.imshow(binary_gray[0], cmap='gray')  # select channel 0\n",
        "plt.title(\"Binary Grayscale Image\")\n",
        "plt.axis('off')\n",
        "plt.show()\n"
      ],
      "metadata": {
        "colab": {
          "base_uri": "https://localhost:8080/",
          "height": 717
        },
        "id": "3qQ9VrUZ-3th",
        "outputId": "03f88bae-892f-4452-b95d-4b42481245da"
      },
      "execution_count": 21,
      "outputs": [
        {
          "output_type": "display_data",
          "data": {
            "text/plain": [
              "<Figure size 400x400 with 1 Axes>"
            ],
            "image/png": "[encoded data removed]"
          },
          "metadata": {}
        },
        {
          "output_type": "display_data",
          "data": {
            "text/plain": [
              "<Figure size 400x400 with 1 Axes>"
            ],
            "image/png": "[encoded data removed]"
          },
          "metadata": {}
        }
      ]
    },
    {
      "cell_type": "code",
      "source": [],
      "metadata": {
        "id": "McPXHLIn-3xX"
      },
      "execution_count": 20,
      "outputs": []
    },
    {
      "cell_type": "markdown",
      "source": [
        "Tensor Data TType"
      ],
      "metadata": {
        "id": "ufgxGz72BfZY"
      }
    },
    {
      "cell_type": "code",
      "source": [
        "import torch\n",
        "\n",
        "# ----------------------------\n",
        "# 1️⃣ Float Tensors\n",
        "# ----------------------------\n",
        "# float32 (standard for NN)\n",
        "tensor_float32 = torch.randn(3, 224, 224, dtype=torch.float32)  # 3-channel image, normalized\n",
        "print(\"Float32:\", tensor_float32.dtype)\n",
        "\n",
        "# float64 (high precision)\n",
        "tensor_float64 = torch.randn(3, 224, 224, dtype=torch.float64)\n",
        "print(\"Float64:\", tensor_float64.dtype)\n",
        "\n",
        "# float16 (half precision, memory efficient)\n",
        "tensor_float16 = torch.randn(3, 224, 224, dtype=torch.float16)\n",
        "print(\"Float16:\", tensor_float16.dtype)\n",
        "\n",
        "# bfloat16 (Brain Float, TPU/GPU efficient)\n",
        "tensor_bfloat16 = torch.randn(3, 224, 224, dtype=torch.bfloat16)\n",
        "print(\"BFloat16:\", tensor_bfloat16.dtype)\n",
        "\n",
        "# ----------------------------\n",
        "# 2️⃣ Integer Tensors\n",
        "# ----------------------------\n",
        "# int8\n",
        "tensor_int8 = torch.randint(-128, 127, (3, 224, 224), dtype=torch.int8)\n",
        "print(\"Int8:\", tensor_int8.dtype)\n",
        "\n",
        "# uint8 (common for image pixel 0-255)\n",
        "tensor_uint8 = torch.randint(0, 256, (3, 224, 224), dtype=torch.uint8)\n",
        "print(\"UInt8:\", tensor_uint8.dtype)\n",
        "\n",
        "# int16 / short\n",
        "tensor_int16 = torch.randint(-32768, 32767, (3, 224, 224), dtype=torch.int16)\n",
        "print(\"Int16:\", tensor_int16.dtype)\n",
        "\n",
        "# int32\n",
        "tensor_int32 = torch.randint(-2147483648, 2147483647, (3, 224, 224), dtype=torch.int32)\n",
        "print(\"Int32:\", tensor_int32.dtype)\n",
        "\n",
        "# int64 / long (used for indexing)\n",
        "tensor_int64 = torch.randint(-9223372036854775808, 9223372036854775807, (3, 224, 224), dtype=torch.int64)\n",
        "print(\"Int64:\", tensor_int64.dtype)\n",
        "\n",
        "# ----------------------------\n",
        "# 3️⃣ Boolean Tensor\n",
        "# ----------------------------\n",
        "tensor_bool = torch.randint(0, 2, (3, 224, 224), dtype=torch.bool)\n",
        "print(\"Bool:\", tensor_bool.dtype)\n",
        "\n",
        "# ----------------------------\n",
        "# 4️⃣ Complex Tensors\n",
        "# ----------------------------\n",
        "tensor_complex64 = torch.randn(3, 224, 224, dtype=torch.complex64)\n",
        "print(\"Complex64:\", tensor_complex64.dtype)\n",
        "\n",
        "tensor_complex128 = torch.randn(3, 224, 224, dtype=torch.complex128)\n",
        "print(\"Complex128:\", tensor_complex128.dtype)\n",
        "\n",
        "# ----------------------------\n",
        "# 5️⃣ Conversion Example\n",
        "# ----------------------------\n",
        "# uint8 image -> normalized float32\n",
        "img_float = tensor_uint8.float() / 255.0\n",
        "print(\"Converted uint8 -> float32:\", img_float.dtype)\n"
      ],
      "metadata": {
        "colab": {
          "base_uri": "https://localhost:8080/"
        },
        "id": "hRSjGc0E-31O",
        "outputId": "959e1ee8-c426-4033-cac7-ad0115f94902"
      },
      "execution_count": 22,
      "outputs": [
        {
          "output_type": "stream",
          "name": "stdout",
          "text": [
            "Float32: torch.float32\n",
            "Float64: torch.float64\n",
            "Float16: torch.float16\n",
            "BFloat16: torch.bfloat16\n",
            "Int8: torch.int8\n",
            "UInt8: torch.uint8\n",
            "Int16: torch.int16\n",
            "Int32: torch.int32\n",
            "Int64: torch.int64\n",
            "Bool: torch.bool\n",
            "Complex64: torch.complex64\n",
            "Complex128: torch.complex128\n",
            "Converted uint8 -> float32: torch.float32\n"
          ]
        }
      ]
    },
    {
      "cell_type": "markdown",
      "source": [
        "Tensor Menupulation"
      ],
      "metadata": {
        "id": "EBn-mAtZCwee"
      }
    },
    {
      "cell_type": "code",
      "source": [
        "import torch\n",
        "\n",
        "# একটি 1D টেনসর তৈরি করা\n",
        "original_tensor = torch.arange(12) # 0 থেকে 11 পর্যন্ত ভ্যালু\n",
        "print(\"Original Tensor (1D):\", original_tensor)\n",
        "print(\"Shape:\", original_tensor.shape, \"\\n\")\n",
        "\n",
        "# 1. reshape() মেথড ব্যবহার করে\n",
        "reshaped_tensor = original_tensor.reshape(3, 4) # 3x4 ম্যাট্রিক্সে পরিবর্তন\n",
        "print(\"Reshaped (3, 4) using reshape():\")\n",
        "print(reshaped_tensor)\n",
        "print(\"Shape:\", reshaped_tensor.shape, \"\\n\")\n",
        "\n",
        "# 2. view() মেথড ব্যবহার করে (reshape-এর মত, কিন্তু মেমরি শেয়ার করে)\n",
        "viewed_tensor = original_tensor.view(4, 3) # 4x3 ম্যাট্রিক্সে পরিবর্তন\n",
        "print(\"Reshaped (4, 3) using view():\")\n",
        "print(viewed_tensor)\n",
        "print(\"Shape:\", viewed_tensor.shape, \"\\n\")\n",
        "\n",
        "# 3. -1 ব্যবহার করে (একটি ডাইমেনশন অটো ক্যালকুলেট করার জন্য)\n",
        "auto_reshaped = original_tensor.reshape(2, -1) # 2 rows, auto-calculated columns (6)\n",
        "print(\"Reshaped (2, -1) - Auto calculate columns:\")\n",
        "print(auto_reshaped)\n",
        "print(\"Shape:\", auto_reshaped.shape, \"\\n\")"
      ],
      "metadata": {
        "colab": {
          "base_uri": "https://localhost:8080/"
        },
        "id": "gnQH9OWB-34d",
        "outputId": "b0e44303-e7d1-4da7-8c20-941ddbd2811c"
      },
      "execution_count": 23,
      "outputs": [
        {
          "output_type": "stream",
          "name": "stdout",
          "text": [
            "Original Tensor (1D): tensor([ 0,  1,  2,  3,  4,  5,  6,  7,  8,  9, 10, 11])\n",
            "Shape: torch.Size([12]) \n",
            "\n",
            "Reshaped (3, 4) using reshape():\n",
            "tensor([[ 0,  1,  2,  3],\n",
            "        [ 4,  5,  6,  7],\n",
            "        [ 8,  9, 10, 11]])\n",
            "Shape: torch.Size([3, 4]) \n",
            "\n",
            "Reshaped (4, 3) using view():\n",
            "tensor([[ 0,  1,  2],\n",
            "        [ 3,  4,  5],\n",
            "        [ 6,  7,  8],\n",
            "        [ 9, 10, 11]])\n",
            "Shape: torch.Size([4, 3]) \n",
            "\n",
            "Reshaped (2, -1) - Auto calculate columns:\n",
            "tensor([[ 0,  1,  2,  3,  4,  5],\n",
            "        [ 6,  7,  8,  9, 10, 11]])\n",
            "Shape: torch.Size([2, 6]) \n",
            "\n"
          ]
        }
      ]
    },
    {
      "cell_type": "code",
      "source": [
        "# Concatenation (জোড়া দেওয়া)\n",
        "tensor_a = torch.tensor([[1, 2], [3, 4]])\n",
        "tensor_b = torch.tensor([[5, 6], [7, 8]])\n",
        "\n",
        "# dim=0 (row-wise/নিচের দিকে জোড়া দেবে)\n",
        "cat_dim0 = torch.cat((tensor_a, tensor_b), dim=0)\n",
        "print(\"Concatenation along dim=0 (rows):\")\n",
        "print(cat_dim0)\n",
        "print(\"Shape:\", cat_dim0.shape, \"\\n\")\n",
        "\n",
        "# dim=1 (column-wise/ডান দিকে জোড়া দেবে)\n",
        "cat_dim1 = torch.cat((tensor_a, tensor_b), dim=1)\n",
        "print(\"Concatenation along dim=1 (columns):\")\n",
        "print(cat_dim1)\n",
        "print(\"Shape:\", cat_dim1.shape, \"\\n\")\n",
        "\n",
        "# Stacking (একটি নতুন ডাইমেনশন ক্রিয়েট করে জোড়া দেয়)\n",
        "stacked = torch.stack((tensor_a, tensor_b), dim=0)\n",
        "print(\"Stacking (creates new dimension):\")\n",
        "print(stacked)\n",
        "print(\"Shape:\", stacked.shape, \"\\n\")\n",
        "\n",
        "# Splitting (ভাগ করা)\n",
        "big_tensor = torch.arange(16).reshape(4, 4)\n",
        "print(\"Big Tensor to split:\")\n",
        "print(big_tensor)\n",
        "\n",
        "# টেনসরকে 2 অংশে ভাগ করুন (dim=0 বরাবর, অর্থাৎ row ভাগ হবে)\n",
        "split_list = torch.split(big_tensor, 2, dim=0) # প্রতিটি chunk-এ 2টি করে row\n",
        "print(\"\\nAfter splitting into chunks of 2 rows:\")\n",
        "for i, chunk in enumerate(split_list):\n",
        "    print(f\"Chunk {i+1}:\\n{chunk}\")"
      ],
      "metadata": {
        "colab": {
          "base_uri": "https://localhost:8080/"
        },
        "id": "Arzk15UN-38M",
        "outputId": "6f3bfa4c-5948-44c1-d9f8-69aff5f5b2fd"
      },
      "execution_count": 24,
      "outputs": [
        {
          "output_type": "stream",
          "name": "stdout",
          "text": [
            "Concatenation along dim=0 (rows):\n",
            "tensor([[1, 2],\n",
            "        [3, 4],\n",
            "        [5, 6],\n",
            "        [7, 8]])\n",
            "Shape: torch.Size([4, 2]) \n",
            "\n",
            "Concatenation along dim=1 (columns):\n",
            "tensor([[1, 2, 5, 6],\n",
            "        [3, 4, 7, 8]])\n",
            "Shape: torch.Size([2, 4]) \n",
            "\n",
            "Stacking (creates new dimension):\n",
            "tensor([[[1, 2],\n",
            "         [3, 4]],\n",
            "\n",
            "        [[5, 6],\n",
            "         [7, 8]]])\n",
            "Shape: torch.Size([2, 2, 2]) \n",
            "\n",
            "Big Tensor to split:\n",
            "tensor([[ 0,  1,  2,  3],\n",
            "        [ 4,  5,  6,  7],\n",
            "        [ 8,  9, 10, 11],\n",
            "        [12, 13, 14, 15]])\n",
            "\n",
            "After splitting into chunks of 2 rows:\n",
            "Chunk 1:\n",
            "tensor([[0, 1, 2, 3],\n",
            "        [4, 5, 6, 7]])\n",
            "Chunk 2:\n",
            "tensor([[ 8,  9, 10, 11],\n",
            "        [12, 13, 14, 15]])\n"
          ]
        }
      ]
    },
    {
      "cell_type": "code",
      "source": [
        "# একটি 2D টেনসর তৈরি করা\n",
        "tensor_2d = torch.arange(20).reshape(4, 5)\n",
        "print(\"Original 2D Tensor:\")\n",
        "print(tensor_2d, \"\\n\")\n",
        "\n",
        "# 1. Single element অ্যাক্সেস করা\n",
        "print(\"Element at row 2, column 3:\", tensor_2d[2, 3].item(), \"\\n\") # row, column index\n",
        "\n",
        "# 2. সম্পূর্ণ একটি row নেওয়া\n",
        "print(\"Entire row at index 1:\", tensor_2d[1, :], \"\\n\") # দ্বিতীয় row, সব columns\n",
        "\n",
        "# 3. সম্পূর্ণ একটি column নেওয়া\n",
        "print(\"Entire column at index 2:\", tensor_2d[:, 2], \"\\n\") # সব rows, তৃতীয় column\n",
        "\n",
        "# 4. একটি sub-matrix বা স্লাইস নেওয়া\n",
        "# [start_row:end_row, start_col:end_col]\n",
        "sub_tensor = tensor_2d[1:3, 2:4] # row 1 & 2, column 2 & 3\n",
        "print(\"Sub-matrix (rows 1:3, columns 2:4):\")\n",
        "print(sub_tensor)"
      ],
      "metadata": {
        "colab": {
          "base_uri": "https://localhost:8080/"
        },
        "id": "D6tElfWw-3_5",
        "outputId": "449f7410-f663-49c4-adc6-7b4f961a3073"
      },
      "execution_count": 25,
      "outputs": [
        {
          "output_type": "stream",
          "name": "stdout",
          "text": [
            "Original 2D Tensor:\n",
            "tensor([[ 0,  1,  2,  3,  4],\n",
            "        [ 5,  6,  7,  8,  9],\n",
            "        [10, 11, 12, 13, 14],\n",
            "        [15, 16, 17, 18, 19]]) \n",
            "\n",
            "Element at row 2, column 3: 13 \n",
            "\n",
            "Entire row at index 1: tensor([5, 6, 7, 8, 9]) \n",
            "\n",
            "Entire column at index 2: tensor([ 2,  7, 12, 17]) \n",
            "\n",
            "Sub-matrix (rows 1:3, columns 2:4):\n",
            "tensor([[ 7,  8],\n",
            "        [12, 13]])\n"
          ]
        }
      ]
    },
    {
      "cell_type": "code",
      "source": [
        "x = torch.tensor([1, 2, 3])\n",
        "y = torch.tensor([4, 5, 6])\n",
        "\n",
        "# 1. Element-wise operations (প্রতিটি এলিমেন্টের সাথে অপারেশন হয়)\n",
        "print(\"Element-wise Addition (x + y):\", x + y)\n",
        "print(\"Element-wise Multiplication (x * y):\", x * y)\n",
        "print(\"Element-wise Power (x ** 2):\", x ** 2, \"\\n\")\n",
        "\n",
        "# 2. Broadcasting (ভিন্ন আকৃতির টেনসরের সাথে অপারেশন)\n",
        "# ছোট টেনসরটি автоматически বড় টেনসরের আকৃতিতে match হয়\n",
        "scalar = 10\n",
        "matrix = torch.ones(2, 3)\n",
        "result = scalar * matrix # 10 সংখ্যাটি matrix-এর প্রতিটি element-এর সাথে গুণ হবে\n",
        "print(\"Broadcasting (scalar * matrix):\")\n",
        "print(result)"
      ],
      "metadata": {
        "colab": {
          "base_uri": "https://localhost:8080/"
        },
        "id": "9mk3cxt6DP4N",
        "outputId": "5701351d-9c59-4493-df63-594028bb5050"
      },
      "execution_count": 26,
      "outputs": [
        {
          "output_type": "stream",
          "name": "stdout",
          "text": [
            "Element-wise Addition (x + y): tensor([5, 7, 9])\n",
            "Element-wise Multiplication (x * y): tensor([ 4, 10, 18])\n",
            "Element-wise Power (x ** 2): tensor([1, 4, 9]) \n",
            "\n",
            "Broadcasting (scalar * matrix):\n",
            "tensor([[10., 10., 10.],\n",
            "        [10., 10., 10.]])\n"
          ]
        }
      ]
    },
    {
      "cell_type": "code",
      "source": [],
      "metadata": {
        "id": "BRiCfuY2DQHN"
      },
      "execution_count": null,
      "outputs": []
    },
    {
      "cell_type": "code",
      "source": [],
      "metadata": {
        "id": "GuqIb3vUDQM8"
      },
      "execution_count": null,
      "outputs": []
    },
    {
      "cell_type": "code",
      "source": [],
      "metadata": {
        "id": "Zf5K01EnDQRI"
      },
      "execution_count": null,
      "outputs": []
    },
    {
      "cell_type": "code",
      "source": [],
      "metadata": {
        "id": "GsF3m1_-DQXY"
      },
      "execution_count": null,
      "outputs": []
    },
    {
      "cell_type": "code",
      "source": [],
      "metadata": {
        "id": "R24DVL9LDQbE"
      },
      "execution_count": null,
      "outputs": []
    },
    {
      "cell_type": "code",
      "source": [],
      "metadata": {
        "id": "v3COEfAaDQhu"
      },
      "execution_count": null,
      "outputs": []
    },
    {
      "cell_type": "code",
      "source": [],
      "metadata": {
        "id": "d4_PCZPnDQmT"
      },
      "execution_count": null,
      "outputs": []
    },
    {
      "cell_type": "code",
      "source": [],
      "metadata": {
        "id": "D8-Zt7RPDQp9"
      },
      "execution_count": null,
      "outputs": []
    },
    {
      "cell_type": "code",
      "source": [],
      "metadata": {
        "id": "17v1w5dPDQug"
      },
      "execution_count": null,
      "outputs": []
    }
  ]
}