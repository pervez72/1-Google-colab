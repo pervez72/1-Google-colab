{
  "nbformat": 4,
  "nbformat_minor": 0,
  "metadata": {
    "colab": {
      "provenance": [],
      "gpuType": "T4",
      "authorship_tag": "ABX9TyNSi6TZxgVP5UBXbN3EjAMa",
      "include_colab_link": true
    },
    "kernelspec": {
      "name": "python3",
      "display_name": "Python 3"
    },
    "language_info": {
      "name": "python"
    },
    "accelerator": "GPU"
  },
  "cells": [
    {
      "cell_type": "markdown",
      "metadata": {
        "id": "view-in-github",
        "colab_type": "text"
      },
      "source": [
        "<a href=\"https://colab.research.google.com/github/pervez72/1-Google-colab/blob/main/introduction.ipynb\" target=\"_parent\"><img src=\"https://colab.research.google.com/assets/colab-badge.svg\" alt=\"Open In Colab\"/></a>"
      ]
    },
    {
      "cell_type": "markdown",
      "source": [
        "Tensor Basics"
      ],
      "metadata": {
        "id": "7Z0KkwYtax5C"
      }
    },
    {
      "cell_type": "code",
      "execution_count": 1,
      "metadata": {
        "id": "KS_S82_KNiAi"
      },
      "outputs": [],
      "source": [
        "import torch"
      ]
    },
    {
      "cell_type": "code",
      "source": [
        "# 0D Tensor (Scalar)\n",
        "scalar = torch.tensor(7)\n",
        "print(\"0D Tensor (Scalar):\", scalar)\n",
        "print(\"Shape:\", scalar.shape)  # কোনো dimension নেই\n",
        "\n"
      ],
      "metadata": {
        "id": "hmRLseXmNwD8",
        "colab": {
          "base_uri": "https://localhost:8080/"
        },
        "outputId": "8e71ef75-f0c9-4136-d3dc-88ea6f866385"
      },
      "execution_count": 2,
      "outputs": [
        {
          "output_type": "stream",
          "name": "stdout",
          "text": [
            "0D Tensor (Scalar): tensor(7)\n",
            "Shape: torch.Size([])\n"
          ]
        }
      ]
    },
    {
      "cell_type": "code",
      "source": [
        "# 1D Tensor (Vector)\n",
        "vector = torch.tensor([1, 2, 3, 4])\n",
        "print(\"\\n1D Tensor (Vector):\", vector)\n",
        "print(\"Shape:\", vector.shape)  # (4,)\n",
        "\n"
      ],
      "metadata": {
        "colab": {
          "base_uri": "https://localhost:8080/"
        },
        "id": "T06oorsLSczy",
        "outputId": "b7d99bec-3767-4d2a-92d5-5b8ec615119d"
      },
      "execution_count": 3,
      "outputs": [
        {
          "output_type": "stream",
          "name": "stdout",
          "text": [
            "\n",
            "1D Tensor (Vector): tensor([1, 2, 3, 4])\n",
            "Shape: torch.Size([4])\n"
          ]
        }
      ]
    },
    {
      "cell_type": "code",
      "source": [
        "# 2D Tensor (Matrix)\n",
        "matrix = torch.tensor([[1, 2, 3],\n",
        "                       [4, 5, 6]])\n",
        "print(\"\\n2D Tensor (Matrix):\\n\", matrix)\n",
        "print(\"Shape:\", matrix.shape)  # (2, 3)\n"
      ],
      "metadata": {
        "colab": {
          "base_uri": "https://localhost:8080/"
        },
        "id": "YiP99NfuUWLc",
        "outputId": "c2b261cd-9333-46f4-fd08-36cd72db4de3"
      },
      "execution_count": 4,
      "outputs": [
        {
          "output_type": "stream",
          "name": "stdout",
          "text": [
            "\n",
            "2D Tensor (Matrix):\n",
            " tensor([[1, 2, 3],\n",
            "        [4, 5, 6]])\n",
            "Shape: torch.Size([2, 3])\n"
          ]
        }
      ]
    },
    {
      "cell_type": "markdown",
      "source": [],
      "metadata": {
        "id": "FkCeq9YGau_z"
      }
    },
    {
      "cell_type": "code",
      "source": [
        "\n",
        "\n",
        "# 3D Tensor\n",
        "tensor3d = torch.tensor([[[1, 2], [3, 4]],\n",
        "                         [[5, 6], [7, 8]]])\n",
        "print(\"\\n3D Tensor:\\n\", tensor3d)\n",
        "print(\"Shape:\", tensor3d.shape)  # (2, 2, 2)\n",
        "\n",
        "\n"
      ],
      "metadata": {
        "colab": {
          "base_uri": "https://localhost:8080/"
        },
        "id": "emcG1Jt1UWXk",
        "outputId": "ba0b631c-f901-454e-c917-e630f0ae9d4f"
      },
      "execution_count": 5,
      "outputs": [
        {
          "output_type": "stream",
          "name": "stdout",
          "text": [
            "\n",
            "3D Tensor:\n",
            " tensor([[[1, 2],\n",
            "         [3, 4]],\n",
            "\n",
            "        [[5, 6],\n",
            "         [7, 8]]])\n",
            "Shape: torch.Size([2, 2, 2])\n"
          ]
        }
      ]
    },
    {
      "cell_type": "code",
      "source": [
        "\n",
        "# 4D Tensor (CNN data format example: batch × channel × height × width)\n",
        "tensor4d = torch.rand(10, 3, 28, 28)  # 10 images, 3 channels, 28x28 size\n",
        "print(\"\\n4D Tensor (Image batch): Shape =\", tensor4d.shape)\n"
      ],
      "metadata": {
        "colab": {
          "base_uri": "https://localhost:8080/"
        },
        "id": "q7Dhi402UWd3",
        "outputId": "dcf24d0a-b082-47c2-c433-b9fdb4c0879f"
      },
      "execution_count": 6,
      "outputs": [
        {
          "output_type": "stream",
          "name": "stdout",
          "text": [
            "\n",
            "4D Tensor (Image batch): Shape = torch.Size([10, 3, 28, 28])\n"
          ]
        }
      ]
    },
    {
      "cell_type": "code",
      "source": [
        "# 5D Tensor (Video data format example: batch × channel × frames × height × width)\n",
        "tensor5d = torch.rand(8, 3, 16, 64, 64)  # 8 videos, 3 channels, 16 frames, 64x64 resolution\n",
        "print(\"\\n5D Tensor (Video batch): Shape =\", tensor5d.shape)"
      ],
      "metadata": {
        "colab": {
          "base_uri": "https://localhost:8080/"
        },
        "id": "xcEBJr-uUWk6",
        "outputId": "e229b8d0-5d60-4895-818c-e646f526ecd3"
      },
      "execution_count": 7,
      "outputs": [
        {
          "output_type": "stream",
          "name": "stdout",
          "text": [
            "\n",
            "5D Tensor (Video batch): Shape = torch.Size([8, 3, 16, 64, 64])\n"
          ]
        }
      ]
    },
    {
      "cell_type": "markdown",
      "source": [
        "**Temsor Index**"
      ],
      "metadata": {
        "id": "DAqFIbjva4xN"
      }
    },
    {
      "cell_type": "code",
      "source": [
        "import torch\n",
        "scalar = torch.tensor(42)\n",
        "print(scalar.item())  # শুধু একটাই value, তাই .item() দিয়ে access করা হয়"
      ],
      "metadata": {
        "colab": {
          "base_uri": "https://localhost:8080/"
        },
        "id": "62uFC40QUWze",
        "outputId": "96ff1c3d-fd4a-4db5-fb32-1e5566da5795"
      },
      "execution_count": 8,
      "outputs": [
        {
          "output_type": "stream",
          "name": "stdout",
          "text": [
            "42\n"
          ]
        }
      ]
    },
    {
      "cell_type": "code",
      "source": [
        "vector = torch.tensor([10, 20, 30, 40, 50])\n",
        "print(vector[0])   # প্রথম element → 10\n",
        "print(vector[-1])  # শেষ element → 50\n",
        "print(vector[1:4]) # slicing → [20, 30, 40]"
      ],
      "metadata": {
        "colab": {
          "base_uri": "https://localhost:8080/"
        },
        "id": "YeeZy7Bpc181",
        "outputId": "106624ec-9f45-472f-d71b-9a27f90992fb"
      },
      "execution_count": 9,
      "outputs": [
        {
          "output_type": "stream",
          "name": "stdout",
          "text": [
            "tensor(10)\n",
            "tensor(50)\n",
            "tensor([20, 30, 40])\n"
          ]
        }
      ]
    },
    {
      "cell_type": "code",
      "source": [
        "matrix = torch.tensor([[1, 2, 3],\n",
        "                       [4, 5, 6],\n",
        "                       [7, 8, 9]])\n",
        "\n",
        "print(matrix[0, 0])   # Row=0, Col=0 → 1\n",
        "print(matrix[1, 2])   # Row=1, Col=2 → 6\n",
        "print(matrix[2])      # পুরো 3rd row → [7, 8, 9]\n",
        "print(matrix[:, 1])   # পুরো 2nd column → [2, 5, 8]\n",
        "print(matrix[0:2, 1:3])  # Sub-matrix slice\n"
      ],
      "metadata": {
        "colab": {
          "base_uri": "https://localhost:8080/"
        },
        "id": "hLGy51ATc2Cn",
        "outputId": "bf3443d6-8f9c-4a87-c312-b49105b50e12"
      },
      "execution_count": 10,
      "outputs": [
        {
          "output_type": "stream",
          "name": "stdout",
          "text": [
            "tensor(1)\n",
            "tensor(6)\n",
            "tensor([7, 8, 9])\n",
            "tensor([2, 5, 8])\n",
            "tensor([[2, 3],\n",
            "        [5, 6]])\n"
          ]
        }
      ]
    },
    {
      "cell_type": "code",
      "source": [
        "tensor3d = torch.tensor([[[1, 2], [3, 4]],\n",
        "                         [[5, 6], [7, 8]]])\n",
        "# Shape = (2, 2, 2)\n",
        "\n",
        "print(tensor3d[0, 0, 1])   # 0th matrix, 0th row, 1st col → 2\n",
        "print(tensor3d[1, 1, 0])   # 1st matrix, 1st row, 0th col → 7\n",
        "print(tensor3d[0])         # পুরো প্রথম matrix\n",
        "print(tensor3d[:, 1, :])   # প্রতিটা matrix-এর 2nd row\n",
        "tensor4d = torch.rand(2, 3, 4, 4)\n",
        "# 2 images, 3 channels, 4x4 size\n",
        "\n",
        "print(tensor4d.shape)   # torch.Size([2, 3, 4, 4])\n",
        "print(tensor4d[0, 0])   # প্রথম image-এর প্রথম channel (4x4 matrix)\n",
        "print(tensor4d[1, 2, 3, 1])  # 2nd image, 3rd channel, row=3, col=1 element\n"
      ],
      "metadata": {
        "colab": {
          "base_uri": "https://localhost:8080/"
        },
        "id": "8hgBShQmc2HH",
        "outputId": "46a1f0a0-cf27-4d45-d4e7-d5ba114ef476"
      },
      "execution_count": 12,
      "outputs": [
        {
          "output_type": "stream",
          "name": "stdout",
          "text": [
            "tensor(2)\n",
            "tensor(7)\n",
            "tensor([[1, 2],\n",
            "        [3, 4]])\n",
            "tensor([[3, 4],\n",
            "        [7, 8]])\n",
            "torch.Size([2, 3, 4, 4])\n",
            "tensor([[0.6870, 0.9306, 0.4954, 0.2996],\n",
            "        [0.1021, 0.2012, 0.4227, 0.9416],\n",
            "        [0.3554, 0.2793, 0.9947, 0.8680],\n",
            "        [0.2561, 0.4824, 0.2432, 0.5273]])\n",
            "tensor(0.4016)\n"
          ]
        }
      ]
    },
    {
      "cell_type": "code",
      "source": [
        "tensor4d = torch.rand(2, 3, 4, 4)\n",
        "# 2 images, 3 channels, 4x4 size\n",
        "\n",
        "print(tensor4d.shape)   # torch.Size([2, 3, 4, 4])\n",
        "print(tensor4d[0, 0])   # প্রথম image-এর প্রথম channel (4x4 matrix)\n",
        "print(tensor4d[1, 2, 3, 1])  # 2nd image, 3rd channel, row=3, col=1 element\n"
      ],
      "metadata": {
        "colab": {
          "base_uri": "https://localhost:8080/"
        },
        "id": "elzwL2p9c2K0",
        "outputId": "a1209975-ecaf-4130-886e-15c5be033895"
      },
      "execution_count": 13,
      "outputs": [
        {
          "output_type": "stream",
          "name": "stdout",
          "text": [
            "torch.Size([2, 3, 4, 4])\n",
            "tensor([[0.4196, 0.0480, 0.3281, 0.5170],\n",
            "        [0.9672, 0.4533, 0.1443, 0.8527],\n",
            "        [0.2097, 0.7880, 0.6096, 0.1904],\n",
            "        [0.0029, 0.3597, 0.7764, 0.9052]])\n",
            "tensor(0.0422)\n"
          ]
        }
      ]
    },
    {
      "cell_type": "code",
      "source": [],
      "metadata": {
        "id": "axrHEL2Hc2OZ"
      },
      "execution_count": null,
      "outputs": []
    },
    {
      "cell_type": "code",
      "source": [],
      "metadata": {
        "id": "aI4669qgc2-2"
      },
      "execution_count": null,
      "outputs": []
    },
    {
      "cell_type": "code",
      "source": [],
      "metadata": {
        "id": "RAoF1gseUW22"
      },
      "execution_count": 7,
      "outputs": []
    }
  ]
}